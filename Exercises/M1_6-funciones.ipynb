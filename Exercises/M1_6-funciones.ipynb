{
 "cells": [
  {
   "cell_type": "markdown",
   "id": "c6d989c9",
   "metadata": {},
   "source": [
    "# Funciones"
   ]
  },
  {
   "cell_type": "markdown",
   "id": "d6a08b05",
   "metadata": {},
   "source": [
    "1. Escribe una función que reciba una cadena de texto como parámetro y devuelva un diccionario con las frecuencias de cada letra en la cadena. Los espacios no deben ser considerados."
   ]
  },
  {
   "cell_type": "code",
   "execution_count": 9,
   "id": "6042e1ee",
   "metadata": {},
   "outputs": [
    {
     "name": "stdout",
     "output_type": "stream",
     "text": [
      "{'p': 1, 'a': 5, 't': 5, 's': 2, 'f': 1, 'r': 1, 'i': 1, 'c': 1, 'o': 2, 'n': 1, 'm': 1, 'e': 1}\n"
     ]
    }
   ],
   "source": [
    "def contar_frecuencias(cadena_texto):\n",
    "    diccio_frecuencias = {}\n",
    "    for letra in cadena_texto:\n",
    "        if letra != \" \":\n",
    "            letra = letra.lower()\n",
    "            \n",
    "            if letra in diccio_frecuencias:\n",
    "                diccio_frecuencias[letra] +=1\n",
    "            else:\n",
    "                diccio_frecuencias[letra] =1\n",
    "    return diccio_frecuencias\n",
    "\n",
    "resultado = contar_frecuencias(\"Patatas Fritas con tomate\")\n",
    "print(resultado)\n",
    "    \n",
    "    "
   ]
  },
  {
   "cell_type": "markdown",
   "id": "f9cad376",
   "metadata": {},
   "source": [
    "2. Escribe una función que reciba una cadena de texto como parámetro y devuelva una lista con todas las palabras que tienen más de 5 letras."
   ]
  },
  {
   "cell_type": "code",
   "execution_count": null,
   "id": "4e846091",
   "metadata": {},
   "outputs": [],
   "source": []
  }
 ],
 "metadata": {
  "kernelspec": {
   "display_name": "Python 3",
   "language": "python",
   "name": "python3"
  },
  "language_info": {
   "codemirror_mode": {
    "name": "ipython",
    "version": 3
   },
   "file_extension": ".py",
   "mimetype": "text/x-python",
   "name": "python",
   "nbconvert_exporter": "python",
   "pygments_lexer": "ipython3",
   "version": "3.13.7"
  }
 },
 "nbformat": 4,
 "nbformat_minor": 5
}
