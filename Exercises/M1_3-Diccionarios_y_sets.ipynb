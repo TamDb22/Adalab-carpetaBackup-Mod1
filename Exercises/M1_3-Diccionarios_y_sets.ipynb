{
 "cells": [
  {
   "cell_type": "markdown",
   "id": "8046c7e1",
   "metadata": {},
   "source": [
    "## DICCIONARIOS"
   ]
  },
  {
   "cell_type": "code",
   "execution_count": 1,
   "id": "67252e5b",
   "metadata": {},
   "outputs": [],
   "source": [
    "festivos = {\"01/01\": \"Año Nuevo\",\n",
    "            \"06/01\": \"Epifanía del Señor\",\n",
    "            \"15/04\": \"Viernes Santo\",\n",
    "            \"15/08\": \"Asunción de la Virgen\", \n",
    "            \"12/10\": \"Fiesta Nacional de España\", \n",
    "            \"01/11\": \"Todos los Santos\", \n",
    "            \"06/12\": \"Día de la Constitución Española\",\n",
    "            \"08/12\": \"Inmaculada Concepción\"}"
   ]
  },
  {
   "cell_type": "code",
   "execution_count": 2,
   "id": "9b918698",
   "metadata": {},
   "outputs": [],
   "source": [
    "monarcas = {\"Bélgica\": \"Philippe\", \n",
    "            \"Dinamarca\": \"Margrethe II\", \n",
    "            \"Holanda\": \"Beatrix\",\n",
    "            \"Noruega\": \"Harald V\", \n",
    "            \"España\": \"Felipe VI\", \n",
    "            \"Reino Unido\": \"Carlos III\"}"
   ]
  },
  {
   "cell_type": "code",
   "execution_count": 3,
   "id": "a3b90f82",
   "metadata": {},
   "outputs": [
    {
     "data": {
      "text/plain": [
       "'Viernes Santo'"
      ]
     },
     "execution_count": 3,
     "metadata": {},
     "output_type": "execute_result"
    }
   ],
   "source": [
    "que_festivo = festivos[\"15/04\"]\n",
    "que_festivo"
   ]
  },
  {
   "cell_type": "code",
   "execution_count": 4,
   "id": "a2881f78",
   "metadata": {},
   "outputs": [
    {
     "data": {
      "text/plain": [
       "{'Bélgica': 'Philippe',\n",
       " 'Dinamarca': 'Margrethe II',\n",
       " 'Holanda': 'Willem-Alexander',\n",
       " 'Noruega': 'Harald V',\n",
       " 'España': 'Felipe VI',\n",
       " 'Reino Unido': 'Carlos III'}"
      ]
     },
     "execution_count": 4,
     "metadata": {},
     "output_type": "execute_result"
    }
   ],
   "source": [
    "#Actualiza el diccionario monarcas\n",
    "#Los diccionarios no tienen posiciones de [0],[1]...\n",
    "\n",
    "monarcas[\"Holanda\"] = 'Willem-Alexander'\n",
    "monarcas\n"
   ]
  },
  {
   "cell_type": "code",
   "execution_count": 5,
   "id": "4d02632d",
   "metadata": {},
   "outputs": [
    {
     "data": {
      "text/plain": [
       "{'Bélgica': 'Philippe',\n",
       " 'Dinamarca': 'Margrethe II',\n",
       " 'Holanda': 'Willem-Alexander',\n",
       " 'Noruega': 'Harald V',\n",
       " 'España': 'Felipe VI',\n",
       " 'Reino Unido': 'Carlos III',\n",
       " 'Luxemburgo': 'Henry'}"
      ]
     },
     "execution_count": 5,
     "metadata": {},
     "output_type": "execute_result"
    }
   ],
   "source": [
    "#Update en diccionario con ({})\n",
    "monarcas.update({\"Luxemburgo\": \"Henry\"})\n",
    "monarcas"
   ]
  },
  {
   "cell_type": "code",
   "execution_count": 6,
   "id": "2dcf236d",
   "metadata": {},
   "outputs": [
    {
     "name": "stdout",
     "output_type": "stream",
     "text": [
      "dict_keys(['Bélgica', 'Dinamarca', 'Holanda', 'Noruega', 'España', 'Reino Unido', 'Luxemburgo'])\n",
      "7\n",
      "True\n"
     ]
    },
    {
     "data": {
      "text/plain": [
       "False"
      ]
     },
     "execution_count": 6,
     "metadata": {},
     "output_type": "execute_result"
    }
   ],
   "source": [
    "#cuantos paises hay en monarcas?\n",
    "print(monarcas.keys())\n",
    "print(len(monarcas.keys()))\n",
    "\n",
    "print('Monaco' not in monarcas.keys())\n",
    "'Suecia' in monarcas.keys()\n",
    "\n"
   ]
  },
  {
   "cell_type": "code",
   "execution_count": 7,
   "id": "a2bd3a46",
   "metadata": {},
   "outputs": [
    {
     "name": "stdout",
     "output_type": "stream",
     "text": [
      "['Bélgica', 'Dinamarca', 'Holanda', 'Noruega', 'España', 'Reino Unido', 'Luxemburgo']\n",
      "******************************\n",
      "dict_values(['Año Nuevo', 'Epifanía del Señor', 'Viernes Santo', 'Asunción de la Virgen', 'Fiesta Nacional de España', 'Todos los Santos', 'Día de la Constitución Española', 'Inmaculada Concepción'])\n",
      "******************************\n",
      "[('01/01', 'Año Nuevo'), ('06/01', 'Epifanía del Señor'), ('15/04', 'Viernes Santo'), ('15/08', 'Asunción de la Virgen'), ('12/10', 'Fiesta Nacional de España'), ('01/11', 'Todos los Santos'), ('06/12', 'Día de la Constitución Española'), ('08/12', 'Inmaculada Concepción')]\n",
      "******************************\n"
     ]
    },
    {
     "data": {
      "text/plain": [
       "[('01/01', 'Año Nuevo'),\n",
       " ('06/01', 'Epifanía del Señor'),\n",
       " ('15/04', 'Viernes Santo'),\n",
       " ('15/08', 'Asunción de la Virgen'),\n",
       " ('12/10', 'Fiesta Nacional de España'),\n",
       " ('01/11', 'Todos los Santos'),\n",
       " ('06/12', 'Día de la Constitución Española'),\n",
       " ('08/12', 'Inmaculada Concepción')]"
      ]
     },
     "execution_count": 7,
     "metadata": {},
     "output_type": "execute_result"
    }
   ],
   "source": [
    "print(list(monarcas.keys()))\n",
    "print(\"***\" *10)\n",
    "print((festivos.values()))\n",
    "print(\"***\" *10)\n",
    "print(list(festivos.items()))\n",
    "print(\"***\" *10)\n",
    "\n",
    "list(festivos.items())\n"
   ]
  },
  {
   "cell_type": "code",
   "execution_count": null,
   "id": "1c0cea17",
   "metadata": {},
   "outputs": [
    {
     "name": "stdout",
     "output_type": "stream",
     "text": [
      "{'Bélgica': 'Philippe', 'Dinamarca': 'Margrethe II', 'Holanda': 'Willem-Alexander', 'Noruega': 'Harald V', 'España': 'Felipe VI', 'Reino Unido': 'Carlos III', 'Luxemburgo': 'Henry'}\n",
      "{'Bélgica': 'Philippe', 'Dinamarca': 'Margrethe II', 'Holanda': 'Willem-Alexander', 'Noruega': 'Harald V', 'Reino Unido': 'Carlos III', 'Luxemburgo': 'Henry'}\n"
     ]
    }
   ],
   "source": [
    "monarcas2010 = monarcas\n",
    "print(monarcas2010)\n",
    "monarcas2010.pop('España')\n",
    "\n",
    "\n",
    "print(monarcas2010)\n"
   ]
  },
  {
   "cell_type": "code",
   "execution_count": 10,
   "id": "467a276b",
   "metadata": {},
   "outputs": [
    {
     "name": "stdout",
     "output_type": "stream",
     "text": [
      "{'Bélgica': 'Philippe', 'Dinamarca': 'Margrethe II', 'Holanda': 'Willem-Alexander', 'Noruega': 'Harald V', 'Reino Unido': 'Carlos III'}\n"
     ]
    }
   ],
   "source": [
    "monarcas2010.popitem()\n",
    "print(monarcas2010)"
   ]
  },
  {
   "cell_type": "code",
   "execution_count": 11,
   "id": "434ac2e1",
   "metadata": {},
   "outputs": [
    {
     "name": "stdout",
     "output_type": "stream",
     "text": [
      "{}\n"
     ]
    }
   ],
   "source": [
    "#16 vacia el diccionario monarcas2010\n",
    "monarcas2010.clear()\n",
    "print(monarcas2010)"
   ]
  },
  {
   "cell_type": "code",
   "execution_count": null,
   "id": "7df9bf81",
   "metadata": {},
   "outputs": [
    {
     "data": {
      "text/plain": [
       "'Epifanía del Señor'"
      ]
     },
     "execution_count": 15,
     "metadata": {},
     "output_type": "execute_result"
    }
   ],
   "source": [
    "festivos['06/01']\n"
   ]
  },
  {
   "cell_type": "code",
   "execution_count": 3,
   "id": "738ca2d2",
   "metadata": {},
   "outputs": [
    {
     "name": "stdout",
     "output_type": "stream",
     "text": [
      "False\n",
      "Dia Internacional de la Mujer\n",
      "{'01/01': 'Año Nuevo', '06/01': 'Epifanía del Señor', '15/04': 'Viernes Santo', '15/08': 'Asunción de la Virgen', '12/10': 'Fiesta Nacional de España', '01/11': 'Todos los Santos', '06/12': 'Día de la Constitución Española', '08/12': 'Inmaculada Concepción', '31/11': 'Todos los Santos'}\n"
     ]
    }
   ],
   "source": [
    "#Mirar si la llave '08/03' esta en festivos\n",
    "print('08/03' in festivos)\n",
    "\n",
    "#Con .get dices devuelve lo que hay en esta llave y si la llave\n",
    "#no existe entonces devuelve Dia internacional de la mujer\n",
    "print(festivos.get('08/03', 'Dia Internacional de la Mujer'))\n",
    "\n",
    "#Obten el festivo que haya el 31/11, y si no existe crea un par de \n",
    "# clave-valor nuevo con el valor de 'Todos los Santos'.\n",
    "\n",
    "festivos.setdefault('31/11','Todos los Santos')\n",
    "print(festivos)\n",
    "\n"
   ]
  },
  {
   "cell_type": "markdown",
   "id": "360c4dd7",
   "metadata": {},
   "source": [
    "## SETS"
   ]
  },
  {
   "cell_type": "code",
   "execution_count": 83,
   "id": "333dd2e0",
   "metadata": {},
   "outputs": [],
   "source": [
    "temperaturas_diciembre = [10, 10, 13, 14, 12, 15, \n",
    "                          12, 11, 13, 17, 18, 15, \n",
    "                          15, 17, 17, 13, 13, 11,\n",
    "                          12, 10, 12, 14, 12, 12,\n",
    "                          11, 12, 16, 16, 14, 17, 18]"
   ]
  },
  {
   "cell_type": "code",
   "execution_count": 85,
   "id": "b80285bf",
   "metadata": {},
   "outputs": [
    {
     "data": {
      "text/plain": [
       "{10, 11, 12, 13, 14, 15, 16, 17, 18}"
      ]
     },
     "execution_count": 85,
     "metadata": {},
     "output_type": "execute_result"
    }
   ],
   "source": [
    "#convierte la lista a un set\n",
    "diciembre = set(temperaturas_diciembre)\n",
    "diciembre\n"
   ]
  },
  {
   "cell_type": "code",
   "execution_count": 3,
   "id": "ca057821",
   "metadata": {},
   "outputs": [
    {
     "data": {
      "text/plain": [
       "{'amarillo', 'azul', 'morado', 'naranja', 'rojo', 'verde'}"
      ]
     },
     "execution_count": 3,
     "metadata": {},
     "output_type": "execute_result"
    }
   ],
   "source": [
    "colores = {'amarillo', 'naranja', 'morado','verde', 'rojo', 'azul'}\n",
    "colores"
   ]
  },
  {
   "cell_type": "code",
   "execution_count": 4,
   "id": "353bd2ec",
   "metadata": {},
   "outputs": [
    {
     "name": "stdout",
     "output_type": "stream",
     "text": [
      "{'rojo', 'amarillo', 'verde', 'morado', 'naranja', 'lila', 'azul'}\n"
     ]
    }
   ],
   "source": [
    "colores.add('lila')\n",
    "print(colores)"
   ]
  },
  {
   "cell_type": "code",
   "execution_count": null,
   "id": "fb789337",
   "metadata": {},
   "outputs": [
    {
     "name": "stdout",
     "output_type": "stream",
     "text": [
      "{'lila', 'amarillo', 'azul', 'rojo', 'verde', 'morado', 'granate', 'naranja'}\n"
     ]
    }
   ],
   "source": [
    "#añade mas colores y usa update. Los {} dentro de () es porque update espera solo un argumento. si pones mas de un color hay q usar corchetes\n",
    "colores.update({'azul','rojo','granate'})\n",
    "print(colores)"
   ]
  },
  {
   "cell_type": "code",
   "execution_count": 13,
   "id": "9fa4f392",
   "metadata": {},
   "outputs": [
    {
     "name": "stdout",
     "output_type": "stream",
     "text": [
      "True\n",
      "False\n"
     ]
    },
    {
     "data": {
      "text/plain": [
       "False"
      ]
     },
     "execution_count": 13,
     "metadata": {},
     "output_type": "execute_result"
    }
   ],
   "source": [
    "print('verde' in colores)\n",
    "print('granate' not in colores)\n",
    "'ROJO' in colores"
   ]
  },
  {
   "cell_type": "code",
   "execution_count": 21,
   "id": "510d60a2",
   "metadata": {},
   "outputs": [
    {
     "name": "stdout",
     "output_type": "stream",
     "text": [
      "{10, 11, 12, 13, 14, 15, 16, 17, 18}\n",
      "{10, 11, 12, 13, 14, 15, 16}\n",
      "{10, 11, 12, 13, 14, 15, 16, 17, 18}\n"
     ]
    }
   ],
   "source": [
    "#copiar y borrar elementos\n",
    "enero =set(temperaturas_diciembre)\n",
    "print(enero)\n",
    "\n",
    "enero.remove(18)\n",
    "enero.remove(17)\n",
    "print(enero)\n",
    "print(set(temperaturas_diciembre))"
   ]
  },
  {
   "cell_type": "code",
   "execution_count": null,
   "id": "b6dc14eb",
   "metadata": {},
   "outputs": [
    {
     "name": "stdout",
     "output_type": "stream",
     "text": [
      "9\n"
     ]
    },
    {
     "data": {
      "text/plain": [
       "7"
      ]
     },
     "execution_count": 24,
     "metadata": {},
     "output_type": "execute_result"
    }
   ],
   "source": [
    "#Tamaño de un set.\n",
    "#Cuantas temp distinas hay en diciembre y en enero\n",
    "print(len(set(temperaturas_diciembre)))\n",
    "len(enero)"
   ]
  },
  {
   "cell_type": "code",
   "execution_count": null,
   "id": "6cfabc87",
   "metadata": {},
   "outputs": [
    {
     "name": "stdout",
     "output_type": "stream",
     "text": [
      "{17, 18}\n",
      "set()\n",
      "{10, 11, 12, 13, 14, 15, 16}\n",
      "{'marrón', 'lila', 'azul', 'rojo', 'verde', 'morado', 'granate', 'naranja', 'cyan'}\n"
     ]
    },
    {
     "data": {
      "text/plain": [
       "False"
      ]
     },
     "execution_count": 42,
     "metadata": {},
     "output_type": "execute_result"
    }
   ],
   "source": [
    "#conjuntos de sets\n",
    "#identifica los elementos que hay en diciembre y no estan en enero\n",
    "diciembre =set(temperaturas_diciembre)\n",
    "print(diciembre.difference(enero)) #si pongo al reves enero.difference(diciembre ) sale vacio, porque todos los elementos que hay en enero también están en diciembre. Pero no al reves\n",
    "\n",
    "print(enero.difference(diciembre))\n",
    "#identifica los elementos que tienen en comun\n",
    "print(enero.intersection(diciembre))\n",
    "\n",
    "#diferencia simetrica de colores\n",
    "#La diferencia simétrica entre dos conjuntos devuelve los elementos que están en uno u otro conjunto, pero no en ambos.\n",
    "print(colores.symmetric_difference({'marrón','amarillo','cyan'}))\n",
    "\n",
    "#isdisjoin método devuelve True si los dos conjuntos no tienen ningún elemento en común\n",
    "diciembre.isdisjoint(enero)\n"
   ]
  },
  {
   "cell_type": "markdown",
   "id": "2da147ee",
   "metadata": {},
   "source": [
    "# superset → “tiene todos los elementos de…”\n",
    "\n",
    "# subset → “está contenido en…”"
   ]
  },
  {
   "cell_type": "code",
   "execution_count": null,
   "id": "0890393e",
   "metadata": {},
   "outputs": [
    {
     "data": {
      "text/plain": [
       "True"
      ]
     },
     "execution_count": 45,
     "metadata": {},
     "output_type": "execute_result"
    }
   ],
   "source": [
    "#Un conjunto A (colores) es superset de B (rojo y azul) si A contiene todos los elementos de B.\n",
    "colores.issuperset({'rojo','azul'})"
   ]
  },
  {
   "cell_type": "code",
   "execution_count": null,
   "id": "456d8f02",
   "metadata": {},
   "outputs": [
    {
     "data": {
      "text/plain": [
       "True"
      ]
     },
     "execution_count": 44,
     "metadata": {},
     "output_type": "execute_result"
    }
   ],
   "source": [
    "#Un conjunto A rojo y azul es subset de B (colores) si todos los elementos de A (rojo azul) están en B (colores).\n",
    "{'rojo','azul'}.issubset(colores)"
   ]
  }
 ],
 "metadata": {
  "kernelspec": {
   "display_name": "Python 3",
   "language": "python",
   "name": "python3"
  },
  "language_info": {
   "codemirror_mode": {
    "name": "ipython",
    "version": 3
   },
   "file_extension": ".py",
   "mimetype": "text/x-python",
   "name": "python",
   "nbconvert_exporter": "python",
   "pygments_lexer": "ipython3",
   "version": "3.13.7"
  }
 },
 "nbformat": 4,
 "nbformat_minor": 5
}
