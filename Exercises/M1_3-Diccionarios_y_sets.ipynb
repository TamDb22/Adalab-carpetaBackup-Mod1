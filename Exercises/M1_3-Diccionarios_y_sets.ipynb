{
 "cells": [
  {
   "cell_type": "code",
   "execution_count": 2,
   "id": "67252e5b",
   "metadata": {},
   "outputs": [],
   "source": [
    "festivos = {\"01/01\": \"Año Nuevo\",\n",
    "            \"06/01\": \"Epifanía del Señor\",\n",
    "            \"15/04\": \"Viernes Santo\",\n",
    "            \"15/08\": \"Asunción de la Virgen\", \n",
    "            \"12/10\": \"Fiesta Nacional de España\", \n",
    "            \"01/11\": \"Todos los Santos\", \n",
    "            \"06/12\": \"Día de la Constitución Española\",\n",
    "            \"08/12\": \"Inmaculada Concepción\"}"
   ]
  },
  {
   "cell_type": "code",
   "execution_count": 3,
   "id": "9b918698",
   "metadata": {},
   "outputs": [],
   "source": [
    "monarcas = {\"Bélgica\": \"Philippe\", \n",
    "            \"Dinamarca\": \"Margrethe II\", \n",
    "            \"Holanda\": \"Beatrix\",\n",
    "            \"Noruega\": \"Harald V\", \n",
    "            \"España\": \"Felipe VI\", \n",
    "            \"Reino Unido\": \"Carlos III\"}"
   ]
  },
  {
   "cell_type": "code",
   "execution_count": 4,
   "id": "a3b90f82",
   "metadata": {},
   "outputs": [
    {
     "data": {
      "text/plain": [
       "'Viernes Santo'"
      ]
     },
     "execution_count": 4,
     "metadata": {},
     "output_type": "execute_result"
    }
   ],
   "source": [
    "que_festivo = festivos[\"15/04\"]\n",
    "que_festivo"
   ]
  },
  {
   "cell_type": "code",
   "execution_count": null,
   "id": "a2881f78",
   "metadata": {},
   "outputs": [
    {
     "data": {
      "text/plain": [
       "{'Bélgica': 'Philippe',\n",
       " 'Dinamarca': 'Margrethe II',\n",
       " 'Holanda': 'Willem-Alexander',\n",
       " 'Noruega': 'Harald V',\n",
       " 'España': 'Felipe VI',\n",
       " 'Reino Unido': 'Carlos III'}"
      ]
     },
     "execution_count": 7,
     "metadata": {},
     "output_type": "execute_result"
    }
   ],
   "source": [
    "#Actualiza el diccionario monarcas\n",
    "#Los diccionarios no tienen posiciones de [0],[1]...\n",
    "\n",
    "monarcas[\"Holanda\"] = 'Willem-Alexander'\n",
    "monarcas\n"
   ]
  },
  {
   "cell_type": "code",
   "execution_count": null,
   "id": "4d02632d",
   "metadata": {},
   "outputs": [
    {
     "data": {
      "text/plain": [
       "{'Bélgica': 'Philippe',\n",
       " 'Dinamarca': 'Margrethe II',\n",
       " 'Holanda': 'Willem-Alexander',\n",
       " 'Noruega': 'Harald V',\n",
       " 'España': 'Felipe VI',\n",
       " 'Reino Unido': 'Carlos III',\n",
       " 'Luxemburgo': 'Henry'}"
      ]
     },
     "execution_count": 13,
     "metadata": {},
     "output_type": "execute_result"
    }
   ],
   "source": [
    "#Update en diccionario con ({})\n",
    "monarcas.update({\"Luxemburgo\": \"Henry\"})\n",
    "monarcas"
   ]
  },
  {
   "cell_type": "code",
   "execution_count": 22,
   "id": "2dcf236d",
   "metadata": {},
   "outputs": [
    {
     "name": "stdout",
     "output_type": "stream",
     "text": [
      "dict_keys(['Bélgica', 'Dinamarca', 'Holanda', 'Noruega', 'España', 'Reino Unido', 'Luxemburgo'])\n",
      "7\n",
      "True\n"
     ]
    },
    {
     "data": {
      "text/plain": [
       "False"
      ]
     },
     "execution_count": 22,
     "metadata": {},
     "output_type": "execute_result"
    }
   ],
   "source": [
    "#cuantos paises hay en monarcas?\n",
    "print(monarcas.keys())\n",
    "print(len(monarcas.keys()))\n",
    "\n",
    "print('Monaco' not in monarcas.keys())\n",
    "'Suecia' in monarcas.keys()\n",
    "\n"
   ]
  },
  {
   "cell_type": "code",
   "execution_count": null,
   "id": "a2bd3a46",
   "metadata": {},
   "outputs": [],
   "source": []
  }
 ],
 "metadata": {
  "kernelspec": {
   "display_name": "Python 3",
   "language": "python",
   "name": "python3"
  },
  "language_info": {
   "codemirror_mode": {
    "name": "ipython",
    "version": 3
   },
   "file_extension": ".py",
   "mimetype": "text/x-python",
   "name": "python",
   "nbconvert_exporter": "python",
   "pygments_lexer": "ipython3",
   "version": "3.13.7"
  }
 },
 "nbformat": 4,
 "nbformat_minor": 5
}
