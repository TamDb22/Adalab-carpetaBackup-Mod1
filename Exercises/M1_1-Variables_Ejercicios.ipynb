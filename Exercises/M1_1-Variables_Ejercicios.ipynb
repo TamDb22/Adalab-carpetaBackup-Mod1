{
 "cells": [
  {
   "cell_type": "markdown",
   "id": "0f145e00-b81c-4c9d-a7bb-04aa68896985",
   "metadata": {},
   "source": [
    "VARIABLES"
   ]
  },
  {
   "cell_type": "code",
   "execution_count": 1,
   "id": "24b99716-9c02-4388-9ec2-946843ab64b5",
   "metadata": {},
   "outputs": [],
   "source": [
    "gatos= 8"
   ]
  },
  {
   "cell_type": "code",
   "execution_count": 2,
   "id": "d1634d29-2850-4794-bdc6-7c2bb2526544",
   "metadata": {},
   "outputs": [],
   "source": [
    "perros = \"cuatro\""
   ]
  },
  {
   "cell_type": "code",
   "execution_count": 3,
   "id": "a92300d0-050a-444b-9d34-60e317009db5",
   "metadata": {},
   "outputs": [
    {
     "name": "stdout",
     "output_type": "stream",
     "text": [
      "8\n"
     ]
    }
   ],
   "source": [
    "print(gatos)"
   ]
  },
  {
   "cell_type": "code",
   "execution_count": 4,
   "id": "9a7beb3d-dc92-4ccc-92ad-8c888a1d94d3",
   "metadata": {},
   "outputs": [
    {
     "name": "stdout",
     "output_type": "stream",
     "text": [
      "cuatro\n"
     ]
    }
   ],
   "source": [
    "print(perros)"
   ]
  },
  {
   "cell_type": "code",
   "execution_count": 5,
   "id": "47651d91-e765-48fa-8bb0-d5d753cf0637",
   "metadata": {},
   "outputs": [
    {
     "name": "stdout",
     "output_type": "stream",
     "text": [
      "cuatro mas perros\n"
     ]
    }
   ],
   "source": [
    "print(perros, \"mas\", \"perros\")"
   ]
  },
  {
   "cell_type": "code",
   "execution_count": 6,
   "id": "0a92ae23-1b83-47fc-9d84-dff40728b4c6",
   "metadata": {},
   "outputs": [
    {
     "name": "stdout",
     "output_type": "stream",
     "text": [
      "cuatro más cuatro es igual a 8\n"
     ]
    }
   ],
   "source": [
    "perros = \"cuatro más cuatro es igual a 8\"\n",
    "print(perros)"
   ]
  },
  {
   "cell_type": "code",
   "execution_count": 7,
   "id": "76286071-dfd2-47e9-9ff2-19c6c3a36ae3",
   "metadata": {},
   "outputs": [
    {
     "name": "stdout",
     "output_type": "stream",
     "text": [
      "<class 'float'>\n"
     ]
    }
   ],
   "source": [
    "pizzas =float(2)\n",
    "print(type(pizzas))"
   ]
  },
  {
   "cell_type": "code",
   "execution_count": 8,
   "id": "9ba515c1-914f-4cde-9beb-840a4742c673",
   "metadata": {},
   "outputs": [
    {
     "name": "stdout",
     "output_type": "stream",
     "text": [
      "<class 'str'>\n"
     ]
    }
   ],
   "source": [
    "magdalenas=\"2\"\n",
    "print(type(magdalenas))"
   ]
  },
  {
   "cell_type": "code",
   "execution_count": 9,
   "id": "52e86cb9-894d-4a7d-a25a-696841802df4",
   "metadata": {},
   "outputs": [
    {
     "name": "stdout",
     "output_type": "stream",
     "text": [
      "<class 'int'>\n"
     ]
    }
   ],
   "source": [
    "postres=0\n",
    "print(type(postres))"
   ]
  },
  {
   "cell_type": "code",
   "execution_count": 10,
   "id": "f12ebab3-c711-4135-8da0-26fba17cc813",
   "metadata": {},
   "outputs": [
    {
     "data": {
      "text/plain": [
       "10.0"
      ]
     },
     "execution_count": 10,
     "metadata": {},
     "output_type": "execute_result"
    }
   ],
   "source": [
    "gatos + pizzas"
   ]
  },
  {
   "cell_type": "code",
   "execution_count": 11,
   "id": "ddb6e61e-93fc-4902-9f0c-20cfc3255836",
   "metadata": {},
   "outputs": [
    {
     "data": {
      "text/plain": [
       "16"
      ]
     },
     "execution_count": 11,
     "metadata": {},
     "output_type": "execute_result"
    }
   ],
   "source": [
    "gatos * 2"
   ]
  },
  {
   "cell_type": "code",
   "execution_count": 12,
   "id": "42b3c195-7394-4ce2-b2a1-657482437610",
   "metadata": {},
   "outputs": [
    {
     "name": "stdout",
     "output_type": "stream",
     "text": [
      "16.0\n"
     ]
    }
   ],
   "source": [
    "piezas =(pizzas *8)\n",
    "print(piezas)"
   ]
  },
  {
   "cell_type": "code",
   "execution_count": 13,
   "id": "3a815163-1364-4b21-800f-b72b54aded79",
   "metadata": {},
   "outputs": [
    {
     "name": "stdout",
     "output_type": "stream",
     "text": [
      "16.0\n",
      "19.0\n"
     ]
    }
   ],
   "source": [
    "print(piezas)\n",
    "piezas += 3\n",
    "print(piezas)"
   ]
  },
  {
   "cell_type": "code",
   "execution_count": 14,
   "id": "fe851b1e-8f2c-4a2b-96b6-4be022ead308",
   "metadata": {},
   "outputs": [
    {
     "name": "stdout",
     "output_type": "stream",
     "text": [
      "81\n"
     ]
    }
   ],
   "source": [
    "superficie= (9**2)\n",
    "print(superficie)"
   ]
  },
  {
   "cell_type": "code",
   "execution_count": 15,
   "id": "153cf6d6-f6a0-4cd7-8cd8-ef37f2a33032",
   "metadata": {},
   "outputs": [
    {
     "data": {
      "text/plain": [
       "648"
      ]
     },
     "execution_count": 15,
     "metadata": {},
     "output_type": "execute_result"
    }
   ],
   "source": [
    "superficie * gatos"
   ]
  },
  {
   "cell_type": "code",
   "execution_count": 16,
   "id": "8930e8ba-a113-42ec-818d-36d5532a4c62",
   "metadata": {},
   "outputs": [
    {
     "name": "stdout",
     "output_type": "stream",
     "text": [
      "2.375\n"
     ]
    }
   ],
   "source": [
    "piezas_por_gato= piezas / gatos\n",
    "print(piezas_por_gato)"
   ]
  },
  {
   "cell_type": "code",
   "execution_count": 17,
   "id": "6161dc7d-5b0c-4ba3-937b-c2fdba1341b3",
   "metadata": {},
   "outputs": [
    {
     "name": "stdout",
     "output_type": "stream",
     "text": [
      "-149.0\n"
     ]
    }
   ],
   "source": [
    "piezas_comidas =gatos *21\n",
    "piezas_restantes =piezas - piezas_comidas\n",
    "print(piezas_restantes)"
   ]
  },
  {
   "cell_type": "code",
   "execution_count": 18,
   "id": "50b3278b-baba-4548-959e-e520f033659b",
   "metadata": {},
   "outputs": [
    {
     "name": "stdout",
     "output_type": "stream",
     "text": [
      "10.1\n"
     ]
    }
   ],
   "source": [
    "superficie_por_gato_m2 = (round(superficie / gatos,1))\n",
    "print(superficie_por_gato_m2)\n"
   ]
  },
  {
   "cell_type": "code",
   "execution_count": 19,
   "id": "4cbc1285-3d33-4254-82c0-d66a0801d8ff",
   "metadata": {},
   "outputs": [
    {
     "name": "stdout",
     "output_type": "stream",
     "text": [
      "True\n"
     ]
    }
   ],
   "source": [
    "print(gatos > pizzas)"
   ]
  },
  {
   "cell_type": "code",
   "execution_count": 20,
   "id": "81094751-2d77-4bf2-94ef-edefc2cff01b",
   "metadata": {},
   "outputs": [
    {
     "name": "stdout",
     "output_type": "stream",
     "text": [
      "True\n"
     ]
    }
   ],
   "source": [
    "print(gatos < superficie)"
   ]
  },
  {
   "cell_type": "code",
   "execution_count": 21,
   "id": "7b95dbce-4055-4bda-b289-c516fe0baf8c",
   "metadata": {},
   "outputs": [
    {
     "name": "stdout",
     "output_type": "stream",
     "text": [
      "True\n"
     ]
    }
   ],
   "source": [
    "print((pizzas *2) != gatos)"
   ]
  },
  {
   "cell_type": "code",
   "execution_count": 22,
   "id": "fd229c1b-4dde-48df-8c8c-1e1ebe314182",
   "metadata": {},
   "outputs": [
    {
     "name": "stdout",
     "output_type": "stream",
     "text": [
      "False\n"
     ]
    }
   ],
   "source": [
    "print((pizzas *2) == gatos)"
   ]
  },
  {
   "cell_type": "code",
   "execution_count": 23,
   "id": "110fe37a-0c53-40b2-babf-2871996d1b3b",
   "metadata": {},
   "outputs": [
    {
     "name": "stdout",
     "output_type": "stream",
     "text": [
      "True\n"
     ]
    }
   ],
   "source": [
    "#28\n",
    "print(piezas >= pizzas and superficie != 0)"
   ]
  },
  {
   "cell_type": "code",
   "execution_count": 24,
   "id": "99b71b25-fb61-4337-af61-c2a040707e4a",
   "metadata": {},
   "outputs": [
    {
     "name": "stdout",
     "output_type": "stream",
     "text": [
      "True\n"
     ]
    }
   ],
   "source": [
    "#29\n",
    "print(piezas>= pizzas and piezas < superficie)"
   ]
  },
  {
   "cell_type": "code",
   "execution_count": 28,
   "id": "c439f072",
   "metadata": {},
   "outputs": [
    {
     "name": "stdout",
     "output_type": "stream",
     "text": [
      "False\n"
     ]
    }
   ],
   "source": [
    "#30 \n",
    "print(pizzas >= gatos or piezas % gatos ==0)"
   ]
  },
  {
   "cell_type": "code",
   "execution_count": 32,
   "id": "caff0774",
   "metadata": {},
   "outputs": [
    {
     "name": "stdout",
     "output_type": "stream",
     "text": [
      "True\n"
     ]
    }
   ],
   "source": [
    "print(pizzas <= piezas < superficie)"
   ]
  },
  {
   "cell_type": "code",
   "execution_count": 34,
   "id": "c7d90395",
   "metadata": {},
   "outputs": [
    {
     "name": "stdout",
     "output_type": "stream",
     "text": [
      "True\n"
     ]
    }
   ],
   "source": [
    "print(bool(superficie))\n"
   ]
  },
  {
   "cell_type": "code",
   "execution_count": 39,
   "id": "7f9f4084",
   "metadata": {},
   "outputs": [],
   "source": [
    "#33\n",
    "dia_cumple= input('¿Qué día del mes es tu cumpleaños?').strip()\n",
    "mes_cumple= input('¿En qué mes es tu cumpleaños?').strip()\n"
   ]
  },
  {
   "cell_type": "code",
   "execution_count": null,
   "id": "82cbad7d",
   "metadata": {},
   "outputs": [
    {
     "name": "stdout",
     "output_type": "stream",
     "text": [
      "dia del cumpleaños: 22 de Enero\n"
     ]
    }
   ],
   "source": [
    "#36 y 37\n",
    "fecha_cumple= dia_cumple + ' de ' + mes_cumple\n",
    "print(f'dia del cumpleaños: {fecha_cumple}')"
   ]
  },
  {
   "cell_type": "code",
   "execution_count": 41,
   "id": "052bce87",
   "metadata": {},
   "outputs": [
    {
     "name": "stdout",
     "output_type": "stream",
     "text": [
      "CUATRO MÁS CUATRO ES IGUAL A 8\n"
     ]
    }
   ],
   "source": [
    "#38\n",
    "print(perros.upper())\n"
   ]
  }
 ],
 "metadata": {
  "kernelspec": {
   "display_name": "Python 3",
   "language": "python",
   "name": "python3"
  },
  "language_info": {
   "codemirror_mode": {
    "name": "ipython",
    "version": 3
   },
   "file_extension": ".py",
   "mimetype": "text/x-python",
   "name": "python",
   "nbconvert_exporter": "python",
   "pygments_lexer": "ipython3",
   "version": "3.13.7"
  },
  "panel-cell-order": [
   "dcb4c6da-35d0-404f-985d-4a1260fbd7c6"
  ]
 },
 "nbformat": 4,
 "nbformat_minor": 5
}
