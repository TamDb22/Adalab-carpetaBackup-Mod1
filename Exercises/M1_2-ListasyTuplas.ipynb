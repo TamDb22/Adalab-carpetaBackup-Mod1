{
 "cells": [
  {
   "cell_type": "markdown",
   "id": "e62d3d77",
   "metadata": {},
   "source": [
    "LISTAS"
   ]
  },
  {
   "cell_type": "code",
   "execution_count": 83,
   "id": "ab4544ee",
   "metadata": {},
   "outputs": [
    {
     "data": {
      "text/plain": [
       "['rojo', 'verde', 'azul', 'amarillo', 'naranja', 'morado']"
      ]
     },
     "execution_count": 83,
     "metadata": {},
     "output_type": "execute_result"
    }
   ],
   "source": [
    "lista_colores = ['rojo', 'verde', 'azul', 'amarillo', 'naranja', 'morado']\n",
    "lista_colores"
   ]
  },
  {
   "cell_type": "code",
   "execution_count": 84,
   "id": "79b0f7a6",
   "metadata": {},
   "outputs": [
    {
     "data": {
      "text/plain": [
       "['lineaRoja', 'lineaVerde', 'lineaAzul', 'lineaAmarilla', 'lineaNaranja']"
      ]
     },
     "execution_count": 84,
     "metadata": {},
     "output_type": "execute_result"
    }
   ],
   "source": [
    "buses = ['lineaRoja', 'lineaVerde', 'lineaAzul', 'lineaAmarilla', 'lineaNaranja']\n",
    "buses"
   ]
  },
  {
   "cell_type": "code",
   "execution_count": 85,
   "id": "79ec395c",
   "metadata": {},
   "outputs": [
    {
     "data": {
      "text/plain": [
       "['T', 'a', 'm', 'a', 'r', 'a']"
      ]
     },
     "execution_count": 85,
     "metadata": {},
     "output_type": "execute_result"
    }
   ],
   "source": [
    "mynombre = 'Tamara'\n",
    "lista_caracteres = list(mynombre)\n",
    "lista_caracteres"
   ]
  },
  {
   "cell_type": "code",
   "execution_count": 86,
   "id": "511877f3",
   "metadata": {},
   "outputs": [
    {
     "name": "stdout",
     "output_type": "stream",
     "text": [
      "['D', 'i', 'a', 'z', ' ', 'B', 'r', 'e', 'v', 'e', 'r', 's']\n",
      "['D', 'i', 'a', 'z', 'B', 'r', 'e', 'v', 'e', 'r', 's']\n"
     ]
    }
   ],
   "source": [
    "misApellidos = 'Diaz Brevers'\n",
    "lista_caracteres_CS = list(misApellidos)\n",
    "print(lista_caracteres_CS)\n",
    "lista_caracteres_AP = list(misApellidos.replace(\" \", \"\"))\n",
    "print(lista_caracteres_AP)\n"
   ]
  },
  {
   "cell_type": "code",
   "execution_count": 87,
   "id": "2daef10a",
   "metadata": {},
   "outputs": [
    {
     "name": "stdout",
     "output_type": "stream",
     "text": [
      "['lineaRoja', 'lineaVerde', 'lineaAzul', 'lineaAmarilla', 'lineaNaranja']\n",
      "5\n"
     ]
    }
   ],
   "source": [
    "print(buses)\n",
    "print(len(buses))\n"
   ]
  },
  {
   "cell_type": "code",
   "execution_count": 88,
   "id": "113eee1c",
   "metadata": {},
   "outputs": [
    {
     "name": "stdout",
     "output_type": "stream",
     "text": [
      "12\n"
     ]
    }
   ],
   "source": [
    "print(len(lista_caracteres_CS))"
   ]
  },
  {
   "cell_type": "code",
   "execution_count": 89,
   "id": "45f50531",
   "metadata": {},
   "outputs": [
    {
     "name": "stdout",
     "output_type": "stream",
     "text": [
      "0\n",
      "La letra e no está en mi nombre\n"
     ]
    }
   ],
   "source": [
    "e_name = mynombre.count('e')\n",
    "print(e_name)\n",
    "\n",
    "if 'e' in mynombre:\n",
    "    print(\"La letra e está en mi nombre\")\n",
    "else:\n",
    "    print(\"La letra e no está en mi nombre\")"
   ]
  },
  {
   "cell_type": "code",
   "execution_count": 90,
   "id": "0bee9758",
   "metadata": {},
   "outputs": [
    {
     "name": "stdout",
     "output_type": "stream",
     "text": [
      "22\n",
      "17\n"
     ]
    }
   ],
   "source": [
    "temperaturas_semana = [19, 22, 21, 20, 18, 17, 21]\n",
    "print(max(temperaturas_semana))\n",
    "print(min(temperaturas_semana))"
   ]
  },
  {
   "cell_type": "code",
   "execution_count": 91,
   "id": "1a26aa3e",
   "metadata": {},
   "outputs": [
    {
     "name": "stdout",
     "output_type": "stream",
     "text": [
      "[19, 22, 21, 20, 18, 17, 21]\n",
      "[17, 18, 19, 20, 21, 21, 22]\n"
     ]
    }
   ],
   "source": [
    "temp_sem2 = temperaturas_semana.copy()\n",
    "temp_sem3 = temperaturas_semana.copy()\n",
    "print(temp_sem2)\n",
    "print(sorted(temp_sem3))\n"
   ]
  },
  {
   "cell_type": "code",
   "execution_count": 92,
   "id": "89dd2ff2",
   "metadata": {},
   "outputs": [
    {
     "name": "stdout",
     "output_type": "stream",
     "text": [
      "[]\n",
      "[19, 22, 21, 20, 18, 17, 21]\n"
     ]
    }
   ],
   "source": [
    "temp_sem2.clear()\n",
    "print(temp_sem2)\n",
    "print(temperaturas_semana)"
   ]
  },
  {
   "cell_type": "code",
   "execution_count": 93,
   "id": "8c2234e0",
   "metadata": {},
   "outputs": [
    {
     "name": "stdout",
     "output_type": "stream",
     "text": [
      "['T', 'a', 'm', 'a', 'r', 'a']\n",
      "['D', 'i', 'a', 'z', ' ', 'B', 'r', 'e', 'v', 'e', 'r', 's']\n"
     ]
    }
   ],
   "source": [
    "mynombre2 = list(mynombre).copy()\n",
    "print(mynombre2)\n",
    "\n",
    "misApellidos2 = list(misApellidos).copy()\n",
    "print(misApellidos2)"
   ]
  },
  {
   "cell_type": "code",
   "execution_count": 94,
   "id": "f714e29d",
   "metadata": {},
   "outputs": [
    {
     "name": "stdout",
     "output_type": "stream",
     "text": [
      "[21, 17, 18, 20, 21, 22, 19]\n"
     ]
    }
   ],
   "source": [
    "temp_sem3.reverse()\n",
    "print(temp_sem3)"
   ]
  },
  {
   "cell_type": "code",
   "execution_count": 95,
   "id": "797c2537",
   "metadata": {},
   "outputs": [
    {
     "name": "stdout",
     "output_type": "stream",
     "text": [
      "['T', 'a', 'a', 'a', 'm', 'r']\n",
      "[' ', 'B', 'D', 'a', 'e', 'e', 'i', 'r', 'r', 's', 'v', 'z']\n"
     ]
    }
   ],
   "source": [
    "mynombre2.sort()\n",
    "print(mynombre2)\n",
    "\n",
    "misApellidos2.sort()\n",
    "print(misApellidos2)"
   ]
  },
  {
   "cell_type": "code",
   "execution_count": 96,
   "id": "7cffbaea",
   "metadata": {},
   "outputs": [
    {
     "name": "stdout",
     "output_type": "stream",
     "text": [
      "3\n",
      "1\n",
      "0\n"
     ]
    }
   ],
   "source": [
    "print(mynombre.count('a'))\n",
    "print(mynombre.index('a')) # devuelve solo la primera vez que aparece, si queremos todos los index hay que hacer un bucle\n",
    "print(mynombre.count('o'))"
   ]
  },
  {
   "cell_type": "code",
   "execution_count": 97,
   "id": "ef59d773",
   "metadata": {},
   "outputs": [
    {
     "name": "stdout",
     "output_type": "stream",
     "text": [
      "3\n",
      "0\n"
     ]
    }
   ],
   "source": [
    "print(mynombre2.count('a'))\n",
    "print(mynombre2.count('o'))\n"
   ]
  },
  {
   "cell_type": "code",
   "execution_count": 98,
   "id": "50d02d83",
   "metadata": {},
   "outputs": [
    {
     "name": "stdout",
     "output_type": "stream",
     "text": [
      "saturday\n"
     ]
    }
   ],
   "source": [
    "dias_en = ['monday', 'tuesday', 'wednesday', 'thursday', 'friday', 'saturday','sunday']\n",
    "penultimo_dia_semana = dias_en[-2]\n",
    "print(penultimo_dia_semana)"
   ]
  },
  {
   "cell_type": "code",
   "execution_count": 99,
   "id": "75f5b3c5",
   "metadata": {},
   "outputs": [
    {
     "name": "stdout",
     "output_type": "stream",
     "text": [
      "31\n"
     ]
    },
    {
     "data": {
      "text/plain": [
       "18"
      ]
     },
     "execution_count": 99,
     "metadata": {},
     "output_type": "execute_result"
    }
   ],
   "source": [
    "\n",
    "temperaturas_diciembre = [10, 10, 13, 14, 12, 15, \n",
    "                        12, 11, 13, 17, 18, 15, \n",
    "                        15, 17, 17, 13, 13, 11,\n",
    "                        12, 10, 12, 14, 12, 12,\n",
    "                        11, 12, 16, 16, 14, 17, 18]\n",
    "print(len(temperaturas_diciembre))\n",
    "\n",
    "last_temp = temperaturas_diciembre[-1]\n",
    "last_temp"
   ]
  },
  {
   "cell_type": "code",
   "execution_count": 100,
   "id": "927499d6",
   "metadata": {},
   "outputs": [
    {
     "name": "stdout",
     "output_type": "stream",
     "text": [
      "Yes, friday is in the list\n",
      "1\n"
     ]
    },
    {
     "data": {
      "text/plain": [
       "4"
      ]
     },
     "execution_count": 100,
     "metadata": {},
     "output_type": "execute_result"
    }
   ],
   "source": [
    "if 'friday' in dias_en:\n",
    "    print(\"Yes, friday is in the list\")\n",
    "    \n",
    "print(dias_en.count('friday'))\n",
    "dias_en.index('friday')"
   ]
  },
  {
   "cell_type": "code",
   "execution_count": 101,
   "id": "83c083e9",
   "metadata": {},
   "outputs": [
    {
     "name": "stdout",
     "output_type": "stream",
     "text": [
      "18\n"
     ]
    },
    {
     "data": {
      "text/plain": [
       "2"
      ]
     },
     "execution_count": 101,
     "metadata": {},
     "output_type": "execute_result"
    }
   ],
   "source": [
    "print(max(temperaturas_diciembre))\n",
    "\n",
    "dias_en.index('wednesday')"
   ]
  },
  {
   "cell_type": "code",
   "execution_count": 102,
   "id": "f207b71e",
   "metadata": {},
   "outputs": [
    {
     "name": "stdout",
     "output_type": "stream",
     "text": [
      "La temperatura máxima esta semana será 22 , que ocurrirá en Wednesday . El día más frío tendrá una 18 que ocurrirá en Sunday.\n"
     ]
    }
   ],
   "source": [
    "print('La temperatura máxima esta semana será',max(temperaturas_semana),', que ocurrirá en', dias_en[2].capitalize(),'. El día más frío tendrá una',max(temperaturas_diciembre), 'que ocurrirá en', dias_en[-1].capitalize()+'.')"
   ]
  },
  {
   "cell_type": "markdown",
   "id": "c2ff9c59",
   "metadata": {},
   "source": [
    "TUPLAS"
   ]
  },
  {
   "cell_type": "code",
   "execution_count": null,
   "id": "b6d90f71",
   "metadata": {},
   "outputs": [],
   "source": []
  }
 ],
 "metadata": {
  "kernelspec": {
   "display_name": "Python 3",
   "language": "python",
   "name": "python3"
  },
  "language_info": {
   "codemirror_mode": {
    "name": "ipython",
    "version": 3
   },
   "file_extension": ".py",
   "mimetype": "text/x-python",
   "name": "python",
   "nbconvert_exporter": "python",
   "pygments_lexer": "ipython3",
   "version": "3.13.7"
  }
 },
 "nbformat": 4,
 "nbformat_minor": 5
}
