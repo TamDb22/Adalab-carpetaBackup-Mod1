{
 "cells": [
  {
   "cell_type": "markdown",
   "id": "e62d3d77",
   "metadata": {},
   "source": [
    "LISTAS"
   ]
  },
  {
   "cell_type": "code",
   "execution_count": 45,
   "id": "ab4544ee",
   "metadata": {},
   "outputs": [
    {
     "data": {
      "text/plain": [
       "['rojo', 'verde', 'azul', 'amarillo', 'naranja', 'morado']"
      ]
     },
     "execution_count": 45,
     "metadata": {},
     "output_type": "execute_result"
    }
   ],
   "source": [
    "#1\n",
    "lista_colores = ['rojo', 'verde', 'azul', 'amarillo', 'naranja', 'morado']\n",
    "lista_colores"
   ]
  },
  {
   "cell_type": "code",
   "execution_count": 46,
   "id": "79b0f7a6",
   "metadata": {},
   "outputs": [
    {
     "data": {
      "text/plain": [
       "['lineaRoja', 'lineaVerde', 'lineaAzul', 'lineaAmarilla', 'lineaNaranja']"
      ]
     },
     "execution_count": 46,
     "metadata": {},
     "output_type": "execute_result"
    }
   ],
   "source": [
    "#2\n",
    "buses = ['lineaRoja', 'lineaVerde', 'lineaAzul', 'lineaAmarilla', 'lineaNaranja']\n",
    "buses"
   ]
  },
  {
   "cell_type": "code",
   "execution_count": 47,
   "id": "293544fc",
   "metadata": {},
   "outputs": [],
   "source": [
    "#3\n",
    "temperaturas= (39, 35, 36, 37, 38)"
   ]
  },
  {
   "cell_type": "code",
   "execution_count": 48,
   "id": "79ec395c",
   "metadata": {},
   "outputs": [
    {
     "data": {
      "text/plain": [
       "['T', 'a', 'm', 'a', 'r', 'a']"
      ]
     },
     "execution_count": 48,
     "metadata": {},
     "output_type": "execute_result"
    }
   ],
   "source": [
    "#4\n",
    "mynombre = 'Tamara'\n",
    "lista_caracteres = list(mynombre)\n",
    "lista_caracteres"
   ]
  },
  {
   "cell_type": "code",
   "execution_count": 49,
   "id": "511877f3",
   "metadata": {},
   "outputs": [
    {
     "name": "stdout",
     "output_type": "stream",
     "text": [
      "['D', 'i', 'a', 'z', ' ', 'B', 'r', 'e', 'v', 'e', 'r', 's']\n",
      "['D', 'i', 'a', 'z', 'B', 'r', 'e', 'v', 'e', 'r', 's']\n"
     ]
    }
   ],
   "source": [
    "#5\n",
    "misApellidos = 'Diaz Brevers'\n",
    "lista_caracteres_CS = list(misApellidos)\n",
    "print(lista_caracteres_CS)\n",
    "lista_caracteres_AP = list(misApellidos.replace(\" \", \"\"))\n",
    "print(lista_caracteres_AP)\n"
   ]
  },
  {
   "cell_type": "code",
   "execution_count": 50,
   "id": "2daef10a",
   "metadata": {},
   "outputs": [
    {
     "name": "stdout",
     "output_type": "stream",
     "text": [
      "['lineaRoja', 'lineaVerde', 'lineaAzul', 'lineaAmarilla', 'lineaNaranja']\n",
      "5\n"
     ]
    }
   ],
   "source": [
    "#6\n",
    "\n",
    "print(buses)\n",
    "print(len(buses))\n"
   ]
  },
  {
   "cell_type": "code",
   "execution_count": 51,
   "id": "113eee1c",
   "metadata": {},
   "outputs": [
    {
     "name": "stdout",
     "output_type": "stream",
     "text": [
      "12\n"
     ]
    }
   ],
   "source": [
    "#7\n",
    "print(len(lista_caracteres_CS))"
   ]
  },
  {
   "cell_type": "code",
   "execution_count": 52,
   "id": "0bee9758",
   "metadata": {},
   "outputs": [
    {
     "name": "stdout",
     "output_type": "stream",
     "text": [
      "22\n",
      "17\n"
     ]
    }
   ],
   "source": [
    "#8\n",
    "temperaturas_semana = [19, 22, 21, 20, 18, 17, 21]\n",
    "print(max(temperaturas_semana))\n",
    "print(min(temperaturas_semana))"
   ]
  },
  {
   "cell_type": "code",
   "execution_count": 53,
   "id": "45f50531",
   "metadata": {},
   "outputs": [
    {
     "name": "stdout",
     "output_type": "stream",
     "text": [
      "0\n",
      "La letra e no está en mi nombre\n"
     ]
    }
   ],
   "source": [
    "#9\n",
    "e_name = mynombre.count('e')\n",
    "print(e_name)\n",
    "\n",
    "if 'e' in mynombre:\n",
    "    print(\"La letra e está en mi nombre\")\n",
    "else:\n",
    "    print(\"La letra e no está en mi nombre\")"
   ]
  },
  {
   "cell_type": "code",
   "execution_count": 54,
   "id": "6a5d04a9",
   "metadata": {},
   "outputs": [
    {
     "data": {
      "text/plain": [
       "False"
      ]
     },
     "execution_count": 54,
     "metadata": {},
     "output_type": "execute_result"
    }
   ],
   "source": [
    "#10 \n",
    "'rosa' in lista_colores"
   ]
  },
  {
   "cell_type": "code",
   "execution_count": 55,
   "id": "ad3f0167",
   "metadata": {},
   "outputs": [
    {
     "data": {
      "text/plain": [
       "True"
      ]
     },
     "execution_count": 55,
     "metadata": {},
     "output_type": "execute_result"
    }
   ],
   "source": [
    "#11\n",
    "'x' not in mynombre"
   ]
  },
  {
   "cell_type": "code",
   "execution_count": 56,
   "id": "1a26aa3e",
   "metadata": {},
   "outputs": [
    {
     "name": "stdout",
     "output_type": "stream",
     "text": [
      "[19, 22, 21, 20, 18, 17, 21]\n",
      "[17, 18, 19, 20, 21, 21, 22]\n"
     ]
    }
   ],
   "source": [
    "#12\n",
    "temp_sem2 = temperaturas_semana.copy()\n",
    "temp_sem3 = temperaturas_semana.copy()\n",
    "print(temp_sem2)\n",
    "print(sorted(temp_sem3))\n"
   ]
  },
  {
   "cell_type": "code",
   "execution_count": 57,
   "id": "89dd2ff2",
   "metadata": {},
   "outputs": [
    {
     "name": "stdout",
     "output_type": "stream",
     "text": [
      "[]\n",
      "[19, 22, 21, 20, 18, 17, 21]\n"
     ]
    }
   ],
   "source": [
    "#13 y 14\n",
    "temp_sem2.clear()\n",
    "print(temp_sem2)\n",
    "print(temperaturas_semana)"
   ]
  },
  {
   "cell_type": "code",
   "execution_count": 58,
   "id": "8c2234e0",
   "metadata": {},
   "outputs": [
    {
     "name": "stdout",
     "output_type": "stream",
     "text": [
      "['T', 'a', 'm', 'a', 'r', 'a']\n",
      "['D', 'i', 'a', 'z', ' ', 'B', 'r', 'e', 'v', 'e', 'r', 's']\n"
     ]
    }
   ],
   "source": [
    "#15 y 16\n",
    "mynombre2 = list(mynombre).copy()\n",
    "print(mynombre2)\n",
    "\n",
    "misApellidos2 = list(misApellidos).copy()\n",
    "print(misApellidos2)"
   ]
  },
  {
   "cell_type": "code",
   "execution_count": 59,
   "id": "f714e29d",
   "metadata": {},
   "outputs": [
    {
     "name": "stdout",
     "output_type": "stream",
     "text": [
      "[21, 17, 18, 20, 21, 22, 19]\n"
     ]
    }
   ],
   "source": [
    "#17\n",
    "temp_sem3.reverse()\n",
    "print(temp_sem3)"
   ]
  },
  {
   "cell_type": "code",
   "execution_count": 60,
   "id": "797c2537",
   "metadata": {},
   "outputs": [
    {
     "name": "stdout",
     "output_type": "stream",
     "text": [
      "['T', 'a', 'a', 'a', 'm', 'r']\n",
      "[' ', 'B', 'D', 'a', 'e', 'e', 'i', 'r', 'r', 's', 'v', 'z']\n"
     ]
    }
   ],
   "source": [
    "#18\n",
    "mynombre2.sort()\n",
    "print(mynombre2)\n",
    "\n",
    "\n",
    "misApellidos2.sort()\n",
    "print(misApellidos2)"
   ]
  },
  {
   "cell_type": "code",
   "execution_count": 61,
   "id": "7cffbaea",
   "metadata": {},
   "outputs": [
    {
     "name": "stdout",
     "output_type": "stream",
     "text": [
      "3\n",
      "1\n",
      "0\n"
     ]
    }
   ],
   "source": [
    "#19\n",
    "print(mynombre.count('a'))\n",
    "print(mynombre.index('a')) # devuelve solo la primera vez que aparece, si queremos todos los index hay que hacer un bucle\n",
    "print(mynombre.count('o'))"
   ]
  },
  {
   "cell_type": "code",
   "execution_count": 62,
   "id": "ef59d773",
   "metadata": {},
   "outputs": [
    {
     "name": "stdout",
     "output_type": "stream",
     "text": [
      "3\n",
      "0\n"
     ]
    }
   ],
   "source": [
    "#20\n",
    "print(mynombre2.count('a'))\n",
    "print(mynombre2.count('o'))\n"
   ]
  },
  {
   "cell_type": "code",
   "execution_count": 63,
   "id": "50d02d83",
   "metadata": {},
   "outputs": [
    {
     "name": "stdout",
     "output_type": "stream",
     "text": [
      "saturday\n"
     ]
    }
   ],
   "source": [
    "#22 y 24\n",
    "dias_en = ['monday', 'tuesday', 'wednesday', 'thursday', 'friday', 'saturday','sunday']\n",
    "penultimo_dia_semana = dias_en[-2]\n",
    "print(penultimo_dia_semana)"
   ]
  },
  {
   "cell_type": "code",
   "execution_count": 64,
   "id": "75f5b3c5",
   "metadata": {},
   "outputs": [
    {
     "name": "stdout",
     "output_type": "stream",
     "text": [
      "31\n"
     ]
    },
    {
     "data": {
      "text/plain": [
       "18"
      ]
     },
     "execution_count": 64,
     "metadata": {},
     "output_type": "execute_result"
    }
   ],
   "source": [
    "#23 25\n",
    "temperaturas_diciembre = [10, 10, 13, 14, 12, 15, \n",
    "                        12, 11, 13, 17, 18, 15, \n",
    "                        15, 17, 17, 13, 13, 11,\n",
    "                        12, 10, 12, 14, 12, 12,\n",
    "                        11, 12, 16, 16, 14, 17, 18]\n",
    "print(len(temperaturas_diciembre))\n",
    "\n",
    "last_temp = temperaturas_diciembre[-1]\n",
    "last_temp"
   ]
  },
  {
   "cell_type": "code",
   "execution_count": 65,
   "id": "927499d6",
   "metadata": {},
   "outputs": [
    {
     "name": "stdout",
     "output_type": "stream",
     "text": [
      "Yes, friday is in the list\n",
      "1\n"
     ]
    },
    {
     "data": {
      "text/plain": [
       "4"
      ]
     },
     "execution_count": 65,
     "metadata": {},
     "output_type": "execute_result"
    }
   ],
   "source": [
    "#26\n",
    "if 'friday' in dias_en:\n",
    "    print(\"Yes, friday is in the list\")\n",
    "    \n",
    "print(dias_en.count('friday'))\n",
    "dias_en.index('friday')"
   ]
  },
  {
   "cell_type": "code",
   "execution_count": 66,
   "id": "83c083e9",
   "metadata": {},
   "outputs": [
    {
     "name": "stdout",
     "output_type": "stream",
     "text": [
      "18\n"
     ]
    },
    {
     "data": {
      "text/plain": [
       "2"
      ]
     },
     "execution_count": 66,
     "metadata": {},
     "output_type": "execute_result"
    }
   ],
   "source": [
    "#27\n",
    "print(max(temperaturas_diciembre))\n",
    "#28\n",
    "dias_en.index('wednesday')"
   ]
  },
  {
   "cell_type": "code",
   "execution_count": 67,
   "id": "f207b71e",
   "metadata": {},
   "outputs": [
    {
     "name": "stdout",
     "output_type": "stream",
     "text": [
      "La temperatura máxima esta semana será 22 , que ocurrirá en Wednesday . El día más frío tendrá una 18 que ocurrirá en Sunday.\n"
     ]
    }
   ],
   "source": [
    "#29\n",
    "print('La temperatura máxima esta semana será',max(temperaturas_semana),', que ocurrirá en', dias_en[2].capitalize(),'. El día más frío tendrá una',max(temperaturas_diciembre), 'que ocurrirá en', dias_en[-1].capitalize()+'.')"
   ]
  },
  {
   "cell_type": "markdown",
   "id": "c2ff9c59",
   "metadata": {},
   "source": [
    "TUPLAS"
   ]
  },
  {
   "cell_type": "code",
   "execution_count": 68,
   "id": "b6d90f71",
   "metadata": {},
   "outputs": [],
   "source": [
    "persona1 = 61 , 1.54 , 'pelo marrón'\n"
   ]
  },
  {
   "cell_type": "code",
   "execution_count": 69,
   "id": "44e852b9",
   "metadata": {},
   "outputs": [],
   "source": [
    "persona2 = (68, 1.65, 'pelo rubio')"
   ]
  },
  {
   "cell_type": "code",
   "execution_count": 70,
   "id": "5d55506a",
   "metadata": {},
   "outputs": [],
   "source": [
    "talla = ['M', 42, 39]"
   ]
  },
  {
   "cell_type": "code",
   "execution_count": 71,
   "id": "145ca795",
   "metadata": {},
   "outputs": [
    {
     "data": {
      "text/plain": [
       "('M', 42, 39)"
      ]
     },
     "execution_count": 71,
     "metadata": {},
     "output_type": "execute_result"
    }
   ],
   "source": [
    "#4\n",
    "tuple(talla)\n"
   ]
  },
  {
   "cell_type": "code",
   "execution_count": 72,
   "id": "fbafc9f9",
   "metadata": {},
   "outputs": [
    {
     "data": {
      "text/plain": [
       "(61, 1.54, 'pelo marrón', 'M', 42, 39)"
      ]
     },
     "execution_count": 72,
     "metadata": {},
     "output_type": "execute_result"
    }
   ],
   "source": [
    "#5\n",
    "tuple_persona = persona1 + tuple(talla) \n",
    "tuple_persona"
   ]
  },
  {
   "cell_type": "code",
   "execution_count": null,
   "id": "67d3c2fc",
   "metadata": {},
   "outputs": [
    {
     "data": {
      "text/plain": [
       "'pelo rubio'"
      ]
     },
     "execution_count": 74,
     "metadata": {},
     "output_type": "execute_result"
    }
   ],
   "source": [
    "#6\n",
    "color = persona2[2]\n",
    "color\n",
    "\n",
    "#otra forma de hacerlo:\n",
    "#color = list(persona2).pop(2)\n",
    "#color"
   ]
  },
  {
   "cell_type": "code",
   "execution_count": null,
   "id": "2b8635de",
   "metadata": {},
   "outputs": [
    {
     "data": {
      "text/plain": [
       "3"
      ]
     },
     "execution_count": 75,
     "metadata": {},
     "output_type": "execute_result"
    }
   ],
   "source": [
    "#7\n",
    "len(persona1)\n"
   ]
  },
  {
   "cell_type": "code",
   "execution_count": 76,
   "id": "cb9d3bd8",
   "metadata": {},
   "outputs": [
    {
     "data": {
      "text/plain": [
       "'pelo marrón'"
      ]
     },
     "execution_count": 76,
     "metadata": {},
     "output_type": "execute_result"
    }
   ],
   "source": [
    "#8\n",
    "peso = persona1[0]\n",
    "altura = persona1[1]\n",
    "color_pelo = persona1[2]\n",
    "\n",
    "color_pelo"
   ]
  },
  {
   "cell_type": "code",
   "execution_count": 82,
   "id": "cf5e906b",
   "metadata": {},
   "outputs": [
    {
     "name": "stdout",
     "output_type": "stream",
     "text": [
      "<zip object at 0x1207d5040>\n",
      "[(61, 68), (1.54, 1.65), ('pelo marrón', 'pelo rubio')]\n"
     ]
    }
   ],
   "source": [
    "#9 \n",
    "personas = zip(persona1, persona2)\n",
    "print(personas)\n",
    "print(list(personas))"
   ]
  },
  {
   "cell_type": "code",
   "execution_count": 85,
   "id": "ac74a8f6",
   "metadata": {},
   "outputs": [
    {
     "name": "stdout",
     "output_type": "stream",
     "text": [
      "3\n"
     ]
    }
   ],
   "source": [
    "#10\n",
    "personas = list(zip(persona1, persona2))\n",
    "print(len(personas))"
   ]
  },
  {
   "cell_type": "code",
   "execution_count": 87,
   "id": "e2b7b041",
   "metadata": {},
   "outputs": [
    {
     "name": "stdout",
     "output_type": "stream",
     "text": [
      "[('peso', 68, 61), ('altura', 1.65, 1.54), ('color_pelo', 'pelo rubio', 'pelo marrón')]\n"
     ]
    }
   ],
   "source": [
    "#11\n",
    "etiquetas = ('peso', 'altura', 'color_pelo')\n",
    "todo = zip(etiquetas,persona2,persona1)\n",
    "print(list(todo))"
   ]
  },
  {
   "cell_type": "code",
   "execution_count": 103,
   "id": "0afdee4f",
   "metadata": {},
   "outputs": [
    {
     "ename": "TypeError",
     "evalue": "'<' not supported between instances of 'str' and 'float'",
     "output_type": "error",
     "traceback": [
      "\u001b[31m---------------------------------------------------------------------------\u001b[39m",
      "\u001b[31mTypeError\u001b[39m                                 Traceback (most recent call last)",
      "\u001b[36mCell\u001b[39m\u001b[36m \u001b[39m\u001b[32mIn[103]\u001b[39m\u001b[32m, line 2\u001b[39m\n\u001b[32m      1\u001b[39m \u001b[38;5;66;03m#12\u001b[39;00m\n\u001b[32m----> \u001b[39m\u001b[32m2\u001b[39m personas_lista = \u001b[38;5;28;43msorted\u001b[39;49m\u001b[43m(\u001b[49m\u001b[43mpersonas\u001b[49m\u001b[43m)\u001b[49m\n\u001b[32m      3\u001b[39m personas_lista\n",
      "\u001b[31mTypeError\u001b[39m: '<' not supported between instances of 'str' and 'float'"
     ]
    }
   ],
   "source": [
    "#12\n",
    "personas_lista = sorted(personas)\n",
    "personas_lista"
   ]
  },
  {
   "cell_type": "markdown",
   "id": "c9efc63e",
   "metadata": {},
   "source": [
    "EJERCICIOS EXTRA"
   ]
  },
  {
   "cell_type": "code",
   "execution_count": null,
   "id": "ec3e1d4f",
   "metadata": {},
   "outputs": [
    {
     "data": {
      "text/plain": [
       "[2, 4, 6, 8, 2, 4, 6, 8]"
      ]
     },
     "execution_count": 104,
     "metadata": {},
     "output_type": "execute_result"
    }
   ],
   "source": [
    "#1\n",
    "mi_lista = [2, 4, 6, 8]\n",
    "\n",
    "lista_duplicada =mi_lista *2\n",
    "lista_duplicada\n",
    "\n"
   ]
  },
  {
   "cell_type": "code",
   "execution_count": null,
   "id": "cf3c1a54",
   "metadata": {},
   "outputs": [
    {
     "data": {
      "text/plain": [
       "[(1, 4), (2, 5), (3, 6)]"
      ]
     },
     "execution_count": 105,
     "metadata": {},
     "output_type": "execute_result"
    }
   ],
   "source": [
    "#2\n",
    "lista1 = [1, 2, 3]\n",
    "lista2 = [4, 5, 6]\n",
    "\n",
    "listas_juntas = zip(lista1, lista2)\n",
    "list(listas_juntas)"
   ]
  },
  {
   "cell_type": "code",
   "execution_count": 119,
   "id": "f9f5ca7e",
   "metadata": {},
   "outputs": [
    {
     "name": "stdout",
     "output_type": "stream",
     "text": [
      "20\n"
     ]
    },
    {
     "data": {
      "text/plain": [
       "20"
      ]
     },
     "execution_count": 119,
     "metadata": {},
     "output_type": "execute_result"
    }
   ],
   "source": [
    "#3\n",
    "sum_total = 0\n",
    "\n",
    "for i in mi_lista:\n",
    "    sum_total += i\n",
    "\n",
    "print(sum_total)\n",
    "\n",
    "sum(mi_lista)\n",
    "    "
   ]
  },
  {
   "cell_type": "code",
   "execution_count": null,
   "id": "2ad71d34",
   "metadata": {},
   "outputs": [
    {
     "name": "stdout",
     "output_type": "stream",
     "text": [
      "8\n"
     ]
    },
    {
     "data": {
      "text/plain": [
       "4"
      ]
     },
     "execution_count": 121,
     "metadata": {},
     "output_type": "execute_result"
    }
   ],
   "source": [
    "#4 y 5\n",
    "print(max(mi_lista))\n",
    "len(mi_lista)"
   ]
  },
  {
   "cell_type": "code",
   "execution_count": null,
   "id": "0b4385f2",
   "metadata": {},
   "outputs": [
    {
     "name": "stdout",
     "output_type": "stream",
     "text": [
      "1\n",
      "2\n"
     ]
    }
   ],
   "source": [
    "#6 y 7\n",
    "print(lista_duplicada.index(4))\n",
    "\n",
    "print(lista_duplicada.count(4))\n"
   ]
  },
  {
   "cell_type": "code",
   "execution_count": 128,
   "id": "eac88af2",
   "metadata": {},
   "outputs": [
    {
     "data": {
      "text/plain": [
       "[6, 8, 2, 4]"
      ]
     },
     "execution_count": 128,
     "metadata": {},
     "output_type": "execute_result"
    }
   ],
   "source": [
    "#8\n",
    "sublista = lista_duplicada[2:6]\n",
    "sublista"
   ]
  },
  {
   "cell_type": "code",
   "execution_count": null,
   "id": "e43b2a73",
   "metadata": {},
   "outputs": [
    {
     "data": {
      "text/plain": [
       "8"
      ]
     },
     "execution_count": 129,
     "metadata": {},
     "output_type": "execute_result"
    }
   ],
   "source": [
    "#9 y 10\n",
    "lista_duplicada[-1]"
   ]
  },
  {
   "cell_type": "code",
   "execution_count": 130,
   "id": "25ad0592",
   "metadata": {},
   "outputs": [
    {
     "data": {
      "text/plain": [
       "[4, 6]"
      ]
     },
     "execution_count": 130,
     "metadata": {},
     "output_type": "execute_result"
    }
   ],
   "source": [
    "#11\n",
    "sublista_mi_lista = mi_lista[1:3]\n",
    "sublista_mi_lista"
   ]
  },
  {
   "cell_type": "code",
   "execution_count": null,
   "id": "b23ecac6",
   "metadata": {},
   "outputs": [
    {
     "name": "stdout",
     "output_type": "stream",
     "text": [
      "['manzana', 'pomelo', 'kiwi', 'pera', 'naranja']\n",
      "['naranja', 'pera', 'kiwi', 'pomelo', 'manzana']\n"
     ]
    },
    {
     "data": {
      "text/plain": [
       "[1, 1, 2, 3, 3, 4, 5, 5, 5, 6, 9]"
      ]
     },
     "execution_count": 153,
     "metadata": {},
     "output_type": "execute_result"
    }
   ],
   "source": [
    "#12 Remplazar fruta , 13 lista al reves y 14 lista num ordenala ascendentemente\n",
    "lista_frutas = ['manzana', 'banana', 'kiwi', 'pera', 'naranja']\n",
    "\n",
    "lista_frutas[1] = 'pomelo'\n",
    "print(list(lista_frutas))\n",
    "\n",
    "lista_frutas.reverse()\n",
    "print(lista_frutas)\n",
    "\n",
    "num = [3, 1, 4, 1, 5, 9, 2, 6, 5, 3, 5]\n",
    "sorted(num)"
   ]
  },
  {
   "cell_type": "markdown",
   "id": "2dd1a8c9",
   "metadata": {},
   "source": [
    "BONUS"
   ]
  },
  {
   "cell_type": "code",
   "execution_count": null,
   "id": "658aceac",
   "metadata": {},
   "outputs": [
    {
     "name": "stdout",
     "output_type": "stream",
     "text": [
      "[2, 4, 6, 8]\n"
     ]
    }
   ],
   "source": [
    "#15 BONUS\n",
    "lista25 = [2, 5, 8, 1, 4, 7, 6, 3]\n",
    "pares = []\n",
    "\n",
    "for i in lista25:\n",
    "    if i % 2 == 0:\n",
    "        pares.append(i)\n",
    "    else:\n",
    "        continue\n",
    "print(sorted(pares))"
   ]
  },
  {
   "cell_type": "code",
   "execution_count": 168,
   "id": "1bdafb23",
   "metadata": {},
   "outputs": [
    {
     "data": {
      "text/plain": [
       "[2, 1, 6]"
      ]
     },
     "execution_count": 168,
     "metadata": {},
     "output_type": "execute_result"
    }
   ],
   "source": [
    "#16\n",
    "nueva_lista25 = lista25[::3]\n",
    "    \n",
    "nueva_lista25"
   ]
  },
  {
   "cell_type": "code",
   "execution_count": null,
   "id": "dc2e6220",
   "metadata": {},
   "outputs": [
    {
     "name": "stdout",
     "output_type": "stream",
     "text": [
      "[1, 2, 3, 4, 5, 6, 7, 8]\n",
      "7\n"
     ]
    }
   ],
   "source": [
    "#17 Imprimiendo el segundo numero mas alto de una lista\n",
    "segundo_max = sorted(lista25)\n",
    "print(segundo_max)\n",
    "print(segundo_max[-2])\n"
   ]
  },
  {
   "cell_type": "markdown",
   "id": "c6ddef19",
   "metadata": {},
   "source": [
    "#18\n",
    "sort() solo sirve para listas y modifica el objeto original\n",
    "\n",
    "sorted() funciona con listas, tuplas, strings y demas. No modifica el objeto original y devuelve una nueva lista ordenada tanto numerica como alfabeticamente.\n",
    "\n"
   ]
  },
  {
   "cell_type": "code",
   "execution_count": null,
   "id": "1c1b8ca4",
   "metadata": {},
   "outputs": [
    {
     "name": "stdout",
     "output_type": "stream",
     "text": [
      "[22, 25, 78, 67, 43, 90, 12, 35, 56, [100, 109]]\n",
      "[22, 25, 78, 67, 43, 90, 12, 35, 56, [100, 109], 101, 102, 103]\n"
     ]
    }
   ],
   "source": [
    "#19 append no desempaqueta el iterable que anadimos pero ectend si. Ejemplo debajo \n",
    "\n",
    "crear_lista = [22,25,78,67,43,90,12,35,56]\n",
    "crear_lista.append([100,109])\n",
    "print(crear_lista)\n",
    "crear_lista.extend([101,102,103])\n",
    "print(crear_lista)"
   ]
  },
  {
   "cell_type": "code",
   "execution_count": 197,
   "id": "05e23836",
   "metadata": {},
   "outputs": [
    {
     "name": "stdout",
     "output_type": "stream",
     "text": [
      "[22, 25, 78, 67, 43, 90, 12, 35, 56]\n",
      "[22, 25, 78, 67, 1000, 43, 90, 12, 35, 56]\n"
     ]
    }
   ],
   "source": [
    "#20\n",
    "crear_lista = [22,25,78,67,43,90,12,35,56]\n",
    "print(crear_lista)\n",
    "\n",
    "posicion = int(input('En que posicion quieres que se inserte el elemento?'))\n",
    "crear_lista.insert(posicion, 1000)\n",
    "print(crear_lista)"
   ]
  },
  {
   "cell_type": "code",
   "execution_count": 208,
   "id": "2aa6e861",
   "metadata": {},
   "outputs": [
    {
     "name": "stdout",
     "output_type": "stream",
     "text": [
      "El elemento 34 no está en la lista\n"
     ]
    }
   ],
   "source": [
    "#21\n",
    "esta_dentro = int(input('Esta este elemento en la lista?'))\n",
    "\n",
    "if esta_dentro in crear_lista:\n",
    "    print(f'El elemento {esta_dentro} sí está en la lista')\n",
    "else:\n",
    "    print(f'El elemento {esta_dentro} no está en la lista')"
   ]
  }
 ],
 "metadata": {
  "kernelspec": {
   "display_name": "Python 3",
   "language": "python",
   "name": "python3"
  },
  "language_info": {
   "codemirror_mode": {
    "name": "ipython",
    "version": 3
   },
   "file_extension": ".py",
   "mimetype": "text/x-python",
   "name": "python",
   "nbconvert_exporter": "python",
   "pygments_lexer": "ipython3",
   "version": "3.13.7"
  }
 },
 "nbformat": 4,
 "nbformat_minor": 5
}
