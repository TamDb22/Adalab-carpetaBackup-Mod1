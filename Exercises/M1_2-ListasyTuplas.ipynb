{
 "cells": [
  {
   "cell_type": "markdown",
   "id": "e62d3d77",
   "metadata": {},
   "source": [
    "LISTAS"
   ]
  },
  {
   "cell_type": "code",
   "execution_count": 45,
   "id": "ab4544ee",
   "metadata": {},
   "outputs": [
    {
     "data": {
      "text/plain": [
       "['rojo', 'verde', 'azul', 'amarillo', 'naranja', 'morado']"
      ]
     },
     "execution_count": 45,
     "metadata": {},
     "output_type": "execute_result"
    }
   ],
   "source": [
    "#1\n",
    "lista_colores = ['rojo', 'verde', 'azul', 'amarillo', 'naranja', 'morado']\n",
    "lista_colores"
   ]
  },
  {
   "cell_type": "code",
   "execution_count": 46,
   "id": "79b0f7a6",
   "metadata": {},
   "outputs": [
    {
     "data": {
      "text/plain": [
       "['lineaRoja', 'lineaVerde', 'lineaAzul', 'lineaAmarilla', 'lineaNaranja']"
      ]
     },
     "execution_count": 46,
     "metadata": {},
     "output_type": "execute_result"
    }
   ],
   "source": [
    "#2\n",
    "buses = ['lineaRoja', 'lineaVerde', 'lineaAzul', 'lineaAmarilla', 'lineaNaranja']\n",
    "buses"
   ]
  },
  {
   "cell_type": "code",
   "execution_count": 47,
   "id": "293544fc",
   "metadata": {},
   "outputs": [],
   "source": [
    "#3\n",
    "temperaturas= (39, 35, 36, 37, 38)"
   ]
  },
  {
   "cell_type": "code",
   "execution_count": 48,
   "id": "79ec395c",
   "metadata": {},
   "outputs": [
    {
     "data": {
      "text/plain": [
       "['T', 'a', 'm', 'a', 'r', 'a']"
      ]
     },
     "execution_count": 48,
     "metadata": {},
     "output_type": "execute_result"
    }
   ],
   "source": [
    "#4\n",
    "mynombre = 'Tamara'\n",
    "lista_caracteres = list(mynombre)\n",
    "lista_caracteres"
   ]
  },
  {
   "cell_type": "code",
   "execution_count": 49,
   "id": "511877f3",
   "metadata": {},
   "outputs": [
    {
     "name": "stdout",
     "output_type": "stream",
     "text": [
      "['D', 'i', 'a', 'z', ' ', 'B', 'r', 'e', 'v', 'e', 'r', 's']\n",
      "['D', 'i', 'a', 'z', 'B', 'r', 'e', 'v', 'e', 'r', 's']\n"
     ]
    }
   ],
   "source": [
    "#5\n",
    "misApellidos = 'Diaz Brevers'\n",
    "lista_caracteres_CS = list(misApellidos)\n",
    "print(lista_caracteres_CS)\n",
    "lista_caracteres_AP = list(misApellidos.replace(\" \", \"\"))\n",
    "print(lista_caracteres_AP)\n"
   ]
  },
  {
   "cell_type": "code",
   "execution_count": 50,
   "id": "2daef10a",
   "metadata": {},
   "outputs": [
    {
     "name": "stdout",
     "output_type": "stream",
     "text": [
      "['lineaRoja', 'lineaVerde', 'lineaAzul', 'lineaAmarilla', 'lineaNaranja']\n",
      "5\n"
     ]
    }
   ],
   "source": [
    "#6\n",
    "\n",
    "print(buses)\n",
    "print(len(buses))\n"
   ]
  },
  {
   "cell_type": "code",
   "execution_count": 51,
   "id": "113eee1c",
   "metadata": {},
   "outputs": [
    {
     "name": "stdout",
     "output_type": "stream",
     "text": [
      "12\n"
     ]
    }
   ],
   "source": [
    "#7\n",
    "print(len(lista_caracteres_CS))"
   ]
  },
  {
   "cell_type": "code",
   "execution_count": 52,
   "id": "0bee9758",
   "metadata": {},
   "outputs": [
    {
     "name": "stdout",
     "output_type": "stream",
     "text": [
      "22\n",
      "17\n"
     ]
    }
   ],
   "source": [
    "#8\n",
    "temperaturas_semana = [19, 22, 21, 20, 18, 17, 21]\n",
    "print(max(temperaturas_semana))\n",
    "print(min(temperaturas_semana))"
   ]
  },
  {
   "cell_type": "code",
   "execution_count": 53,
   "id": "45f50531",
   "metadata": {},
   "outputs": [
    {
     "name": "stdout",
     "output_type": "stream",
     "text": [
      "0\n",
      "La letra e no está en mi nombre\n"
     ]
    }
   ],
   "source": [
    "#9\n",
    "e_name = mynombre.count('e')\n",
    "print(e_name)\n",
    "\n",
    "if 'e' in mynombre:\n",
    "    print(\"La letra e está en mi nombre\")\n",
    "else:\n",
    "    print(\"La letra e no está en mi nombre\")"
   ]
  },
  {
   "cell_type": "code",
   "execution_count": 54,
   "id": "6a5d04a9",
   "metadata": {},
   "outputs": [
    {
     "data": {
      "text/plain": [
       "False"
      ]
     },
     "execution_count": 54,
     "metadata": {},
     "output_type": "execute_result"
    }
   ],
   "source": [
    "#10 \n",
    "'rosa' in lista_colores"
   ]
  },
  {
   "cell_type": "code",
   "execution_count": 55,
   "id": "ad3f0167",
   "metadata": {},
   "outputs": [
    {
     "data": {
      "text/plain": [
       "True"
      ]
     },
     "execution_count": 55,
     "metadata": {},
     "output_type": "execute_result"
    }
   ],
   "source": [
    "#11\n",
    "'x' not in mynombre"
   ]
  },
  {
   "cell_type": "code",
   "execution_count": 56,
   "id": "1a26aa3e",
   "metadata": {},
   "outputs": [
    {
     "name": "stdout",
     "output_type": "stream",
     "text": [
      "[19, 22, 21, 20, 18, 17, 21]\n",
      "[17, 18, 19, 20, 21, 21, 22]\n"
     ]
    }
   ],
   "source": [
    "#12\n",
    "temp_sem2 = temperaturas_semana.copy()\n",
    "temp_sem3 = temperaturas_semana.copy()\n",
    "print(temp_sem2)\n",
    "print(sorted(temp_sem3))\n"
   ]
  },
  {
   "cell_type": "code",
   "execution_count": 57,
   "id": "89dd2ff2",
   "metadata": {},
   "outputs": [
    {
     "name": "stdout",
     "output_type": "stream",
     "text": [
      "[]\n",
      "[19, 22, 21, 20, 18, 17, 21]\n"
     ]
    }
   ],
   "source": [
    "#13 y 14\n",
    "temp_sem2.clear()\n",
    "print(temp_sem2)\n",
    "print(temperaturas_semana)"
   ]
  },
  {
   "cell_type": "code",
   "execution_count": 58,
   "id": "8c2234e0",
   "metadata": {},
   "outputs": [
    {
     "name": "stdout",
     "output_type": "stream",
     "text": [
      "['T', 'a', 'm', 'a', 'r', 'a']\n",
      "['D', 'i', 'a', 'z', ' ', 'B', 'r', 'e', 'v', 'e', 'r', 's']\n"
     ]
    }
   ],
   "source": [
    "#15 y 16\n",
    "mynombre2 = list(mynombre).copy()\n",
    "print(mynombre2)\n",
    "\n",
    "misApellidos2 = list(misApellidos).copy()\n",
    "print(misApellidos2)"
   ]
  },
  {
   "cell_type": "code",
   "execution_count": 59,
   "id": "f714e29d",
   "metadata": {},
   "outputs": [
    {
     "name": "stdout",
     "output_type": "stream",
     "text": [
      "[21, 17, 18, 20, 21, 22, 19]\n"
     ]
    }
   ],
   "source": [
    "#17\n",
    "temp_sem3.reverse()\n",
    "print(temp_sem3)"
   ]
  },
  {
   "cell_type": "code",
   "execution_count": 60,
   "id": "797c2537",
   "metadata": {},
   "outputs": [
    {
     "name": "stdout",
     "output_type": "stream",
     "text": [
      "['T', 'a', 'a', 'a', 'm', 'r']\n",
      "[' ', 'B', 'D', 'a', 'e', 'e', 'i', 'r', 'r', 's', 'v', 'z']\n"
     ]
    }
   ],
   "source": [
    "#18\n",
    "mynombre2.sort()\n",
    "print(mynombre2)\n",
    "\n",
    "\n",
    "misApellidos2.sort()\n",
    "print(misApellidos2)"
   ]
  },
  {
   "cell_type": "code",
   "execution_count": 61,
   "id": "7cffbaea",
   "metadata": {},
   "outputs": [
    {
     "name": "stdout",
     "output_type": "stream",
     "text": [
      "3\n",
      "1\n",
      "0\n"
     ]
    }
   ],
   "source": [
    "#19\n",
    "print(mynombre.count('a'))\n",
    "print(mynombre.index('a')) # devuelve solo la primera vez que aparece, si queremos todos los index hay que hacer un bucle\n",
    "print(mynombre.count('o'))"
   ]
  },
  {
   "cell_type": "code",
   "execution_count": 62,
   "id": "ef59d773",
   "metadata": {},
   "outputs": [
    {
     "name": "stdout",
     "output_type": "stream",
     "text": [
      "3\n",
      "0\n"
     ]
    }
   ],
   "source": [
    "#20\n",
    "print(mynombre2.count('a'))\n",
    "print(mynombre2.count('o'))\n"
   ]
  },
  {
   "cell_type": "code",
   "execution_count": 63,
   "id": "50d02d83",
   "metadata": {},
   "outputs": [
    {
     "name": "stdout",
     "output_type": "stream",
     "text": [
      "saturday\n"
     ]
    }
   ],
   "source": [
    "#22 y 24\n",
    "dias_en = ['monday', 'tuesday', 'wednesday', 'thursday', 'friday', 'saturday','sunday']\n",
    "penultimo_dia_semana = dias_en[-2]\n",
    "print(penultimo_dia_semana)"
   ]
  },
  {
   "cell_type": "code",
   "execution_count": 64,
   "id": "75f5b3c5",
   "metadata": {},
   "outputs": [
    {
     "name": "stdout",
     "output_type": "stream",
     "text": [
      "31\n"
     ]
    },
    {
     "data": {
      "text/plain": [
       "18"
      ]
     },
     "execution_count": 64,
     "metadata": {},
     "output_type": "execute_result"
    }
   ],
   "source": [
    "#23 25\n",
    "temperaturas_diciembre = [10, 10, 13, 14, 12, 15, \n",
    "                        12, 11, 13, 17, 18, 15, \n",
    "                        15, 17, 17, 13, 13, 11,\n",
    "                        12, 10, 12, 14, 12, 12,\n",
    "                        11, 12, 16, 16, 14, 17, 18]\n",
    "print(len(temperaturas_diciembre))\n",
    "\n",
    "last_temp = temperaturas_diciembre[-1]\n",
    "last_temp"
   ]
  },
  {
   "cell_type": "code",
   "execution_count": 65,
   "id": "927499d6",
   "metadata": {},
   "outputs": [
    {
     "name": "stdout",
     "output_type": "stream",
     "text": [
      "Yes, friday is in the list\n",
      "1\n"
     ]
    },
    {
     "data": {
      "text/plain": [
       "4"
      ]
     },
     "execution_count": 65,
     "metadata": {},
     "output_type": "execute_result"
    }
   ],
   "source": [
    "#26\n",
    "if 'friday' in dias_en:\n",
    "    print(\"Yes, friday is in the list\")\n",
    "    \n",
    "print(dias_en.count('friday'))\n",
    "dias_en.index('friday')"
   ]
  },
  {
   "cell_type": "code",
   "execution_count": 66,
   "id": "83c083e9",
   "metadata": {},
   "outputs": [
    {
     "name": "stdout",
     "output_type": "stream",
     "text": [
      "18\n"
     ]
    },
    {
     "data": {
      "text/plain": [
       "2"
      ]
     },
     "execution_count": 66,
     "metadata": {},
     "output_type": "execute_result"
    }
   ],
   "source": [
    "#27\n",
    "print(max(temperaturas_diciembre))\n",
    "#28\n",
    "dias_en.index('wednesday')"
   ]
  },
  {
   "cell_type": "code",
   "execution_count": 67,
   "id": "f207b71e",
   "metadata": {},
   "outputs": [
    {
     "name": "stdout",
     "output_type": "stream",
     "text": [
      "La temperatura máxima esta semana será 22 , que ocurrirá en Wednesday . El día más frío tendrá una 18 que ocurrirá en Sunday.\n"
     ]
    }
   ],
   "source": [
    "#29\n",
    "print('La temperatura máxima esta semana será',max(temperaturas_semana),', que ocurrirá en', dias_en[2].capitalize(),'. El día más frío tendrá una',max(temperaturas_diciembre), 'que ocurrirá en', dias_en[-1].capitalize()+'.')"
   ]
  },
  {
   "cell_type": "markdown",
   "id": "c2ff9c59",
   "metadata": {},
   "source": [
    "TUPLAS"
   ]
  },
  {
   "cell_type": "code",
   "execution_count": 68,
   "id": "b6d90f71",
   "metadata": {},
   "outputs": [],
   "source": [
    "persona1 = 61 , 1.54 , 'pelo marrón'\n"
   ]
  },
  {
   "cell_type": "code",
   "execution_count": 69,
   "id": "44e852b9",
   "metadata": {},
   "outputs": [],
   "source": [
    "persona2 = (68, 1.65, 'pelo rubio')"
   ]
  },
  {
   "cell_type": "code",
   "execution_count": 70,
   "id": "5d55506a",
   "metadata": {},
   "outputs": [],
   "source": [
    "talla = ['M', 42, 39]"
   ]
  },
  {
   "cell_type": "code",
   "execution_count": 71,
   "id": "145ca795",
   "metadata": {},
   "outputs": [
    {
     "data": {
      "text/plain": [
       "('M', 42, 39)"
      ]
     },
     "execution_count": 71,
     "metadata": {},
     "output_type": "execute_result"
    }
   ],
   "source": [
    "#4\n",
    "tuple(talla)\n"
   ]
  },
  {
   "cell_type": "code",
   "execution_count": 72,
   "id": "fbafc9f9",
   "metadata": {},
   "outputs": [
    {
     "data": {
      "text/plain": [
       "(61, 1.54, 'pelo marrón', 'M', 42, 39)"
      ]
     },
     "execution_count": 72,
     "metadata": {},
     "output_type": "execute_result"
    }
   ],
   "source": [
    "#5\n",
    "tuple_persona = persona1 + tuple(talla) \n",
    "tuple_persona"
   ]
  },
  {
   "cell_type": "code",
   "execution_count": null,
   "id": "67d3c2fc",
   "metadata": {},
   "outputs": [
    {
     "data": {
      "text/plain": [
       "'pelo rubio'"
      ]
     },
     "execution_count": 74,
     "metadata": {},
     "output_type": "execute_result"
    }
   ],
   "source": [
    "#6\n",
    "color = persona2[2]\n",
    "color\n",
    "\n",
    "#otra forma de hacerlo:\n",
    "#color = list(persona2).pop(2)\n",
    "#color"
   ]
  },
  {
   "cell_type": "code",
   "execution_count": null,
   "id": "2b8635de",
   "metadata": {},
   "outputs": [
    {
     "data": {
      "text/plain": [
       "3"
      ]
     },
     "execution_count": 75,
     "metadata": {},
     "output_type": "execute_result"
    }
   ],
   "source": [
    "#7\n",
    "len(persona1)\n"
   ]
  },
  {
   "cell_type": "code",
   "execution_count": 76,
   "id": "cb9d3bd8",
   "metadata": {},
   "outputs": [
    {
     "data": {
      "text/plain": [
       "'pelo marrón'"
      ]
     },
     "execution_count": 76,
     "metadata": {},
     "output_type": "execute_result"
    }
   ],
   "source": [
    "#8\n",
    "peso = persona1[0]\n",
    "altura = persona1[1]\n",
    "color_pelo = persona1[2]\n",
    "\n",
    "color_pelo"
   ]
  },
  {
   "cell_type": "code",
   "execution_count": 82,
   "id": "cf5e906b",
   "metadata": {},
   "outputs": [
    {
     "name": "stdout",
     "output_type": "stream",
     "text": [
      "<zip object at 0x1207d5040>\n",
      "[(61, 68), (1.54, 1.65), ('pelo marrón', 'pelo rubio')]\n"
     ]
    }
   ],
   "source": [
    "#9 \n",
    "personas = zip(persona1, persona2)\n",
    "print(personas)\n",
    "print(list(personas))"
   ]
  },
  {
   "cell_type": "code",
   "execution_count": 85,
   "id": "ac74a8f6",
   "metadata": {},
   "outputs": [
    {
     "name": "stdout",
     "output_type": "stream",
     "text": [
      "3\n"
     ]
    }
   ],
   "source": [
    "#10\n",
    "personas = list(zip(persona1, persona2))\n",
    "print(len(personas))"
   ]
  },
  {
   "cell_type": "code",
   "execution_count": 87,
   "id": "e2b7b041",
   "metadata": {},
   "outputs": [
    {
     "name": "stdout",
     "output_type": "stream",
     "text": [
      "[('peso', 68, 61), ('altura', 1.65, 1.54), ('color_pelo', 'pelo rubio', 'pelo marrón')]\n"
     ]
    }
   ],
   "source": [
    "#11\n",
    "etiquetas = ('peso', 'altura', 'color_pelo')\n",
    "todo = zip(etiquetas,persona2,persona1)\n",
    "print(list(todo))"
   ]
  },
  {
   "cell_type": "code",
   "execution_count": 103,
   "id": "0afdee4f",
   "metadata": {},
   "outputs": [
    {
     "ename": "TypeError",
     "evalue": "'<' not supported between instances of 'str' and 'float'",
     "output_type": "error",
     "traceback": [
      "\u001b[31m---------------------------------------------------------------------------\u001b[39m",
      "\u001b[31mTypeError\u001b[39m                                 Traceback (most recent call last)",
      "\u001b[36mCell\u001b[39m\u001b[36m \u001b[39m\u001b[32mIn[103]\u001b[39m\u001b[32m, line 2\u001b[39m\n\u001b[32m      1\u001b[39m \u001b[38;5;66;03m#12\u001b[39;00m\n\u001b[32m----> \u001b[39m\u001b[32m2\u001b[39m personas_lista = \u001b[38;5;28;43msorted\u001b[39;49m\u001b[43m(\u001b[49m\u001b[43mpersonas\u001b[49m\u001b[43m)\u001b[49m\n\u001b[32m      3\u001b[39m personas_lista\n",
      "\u001b[31mTypeError\u001b[39m: '<' not supported between instances of 'str' and 'float'"
     ]
    }
   ],
   "source": [
    "#12\n",
    "personas_lista = sorted(personas)\n",
    "personas_lista"
   ]
  },
  {
   "cell_type": "markdown",
   "id": "c9efc63e",
   "metadata": {},
   "source": [
    "EJERCICIOS EXTRA"
   ]
  },
  {
   "cell_type": "code",
   "execution_count": null,
   "id": "ec3e1d4f",
   "metadata": {},
   "outputs": [
    {
     "data": {
      "text/plain": [
       "[2, 4, 6, 8, 2, 4, 6, 8]"
      ]
     },
     "execution_count": 104,
     "metadata": {},
     "output_type": "execute_result"
    }
   ],
   "source": [
    "#1\n",
    "mi_lista = [2, 4, 6, 8]\n",
    "\n",
    "lista_duplicada =mi_lista *2\n",
    "lista_duplicada\n",
    "\n"
   ]
  },
  {
   "cell_type": "code",
   "execution_count": null,
   "id": "cf3c1a54",
   "metadata": {},
   "outputs": [
    {
     "data": {
      "text/plain": [
       "[(1, 4), (2, 5), (3, 6)]"
      ]
     },
     "execution_count": 105,
     "metadata": {},
     "output_type": "execute_result"
    }
   ],
   "source": [
    "#2\n",
    "lista1 = [1, 2, 3]\n",
    "lista2 = [4, 5, 6]\n",
    "\n",
    "listas_juntas = zip(lista1, lista2)\n",
    "list(listas_juntas)"
   ]
  },
  {
   "cell_type": "code",
   "execution_count": 117,
   "id": "f9f5ca7e",
   "metadata": {},
   "outputs": [
    {
     "name": "stdout",
     "output_type": "stream",
     "text": [
      "20\n"
     ]
    }
   ],
   "source": [
    "#3\n",
    "sum_total = 0\n",
    "\n",
    "for i in mi_lista:\n",
    "    sum_total += i\n",
    "\n",
    "print(sum_total)\n",
    "    "
   ]
  },
  {
   "cell_type": "code",
   "execution_count": null,
   "id": "2ad71d34",
   "metadata": {},
   "outputs": [],
   "source": []
  },
  {
   "cell_type": "code",
   "execution_count": null,
   "id": "0b4385f2",
   "metadata": {},
   "outputs": [],
   "source": []
  }
 ],
 "metadata": {
  "kernelspec": {
   "display_name": "Python 3",
   "language": "python",
   "name": "python3"
  },
  "language_info": {
   "codemirror_mode": {
    "name": "ipython",
    "version": 3
   },
   "file_extension": ".py",
   "mimetype": "text/x-python",
   "name": "python",
   "nbconvert_exporter": "python",
   "pygments_lexer": "ipython3",
   "version": "3.13.7"
  }
 },
 "nbformat": 4,
 "nbformat_minor": 5
}
