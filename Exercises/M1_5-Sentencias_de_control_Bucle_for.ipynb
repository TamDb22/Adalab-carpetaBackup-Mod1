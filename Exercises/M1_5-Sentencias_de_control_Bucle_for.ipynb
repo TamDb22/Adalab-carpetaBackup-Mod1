{
 "cells": [
  {
   "cell_type": "markdown",
   "id": "5b8c7a22",
   "metadata": {},
   "source": [
    "SENTENCIAS DE CONTROL BUCLE FOR"
   ]
  },
  {
   "cell_type": "code",
   "execution_count": 2,
   "id": "c136a7aa",
   "metadata": {},
   "outputs": [
    {
     "name": "stdout",
     "output_type": "stream",
     "text": [
      "Bajas: [2, 1]\n",
      "Medias: [12]\n",
      "Altas: [45, 67, 23, 45, 66, 34, 67, 99, 98, 67, 64, 44, 100]\n"
     ]
    }
   ],
   "source": [
    "temperaturas = [2,45,67,23, 45,66,12,1,34,67,99,98,67,64, 44, 100]\n",
    "bajas_temp = []\n",
    "medias_temp = []\n",
    "altas_temp = []\n",
    "\n",
    "for i in temperaturas: \n",
    "    if i > 0 and i <= 10:\n",
    "        bajas_temp.append(i)\n",
    "        \n",
    "for i in temperaturas:\n",
    "    if i > 10 and i <= 20:\n",
    "       medias_temp.append(i)\n",
    "        \n",
    "for i in temperaturas:\n",
    "    if i > 20:\n",
    "        altas_temp.append(i)\n",
    "        \n",
    "print(\"Bajas:\", bajas_temp)\n",
    "print(\"Medias:\", medias_temp)\n",
    "print(\"Altas:\", altas_temp)\n"
   ]
  },
  {
   "cell_type": "code",
   "execution_count": 6,
   "id": "4b2c50ad",
   "metadata": {},
   "outputs": [
    {
     "ename": "TypeError",
     "evalue": "unsupported operand type(s) for /: 'list' and 'int'",
     "output_type": "error",
     "traceback": [
      "\u001b[31m---------------------------------------------------------------------------\u001b[39m",
      "\u001b[31mTypeError\u001b[39m                                 Traceback (most recent call last)",
      "\u001b[36mCell\u001b[39m\u001b[36m \u001b[39m\u001b[32mIn[6]\u001b[39m\u001b[32m, line 1\u001b[39m\n\u001b[32m----> \u001b[39m\u001b[32m1\u001b[39m Celsius_a_Farenheit = (\u001b[43mtemperaturas\u001b[49m\u001b[43m \u001b[49m\u001b[43m*\u001b[49m\u001b[43m \u001b[49m\u001b[32;43m9\u001b[39;49m\u001b[43m/\u001b[49m\u001b[32;43m5\u001b[39;49m) +\u001b[32m32\u001b[39m\n",
      "\u001b[31mTypeError\u001b[39m: unsupported operand type(s) for /: 'list' and 'int'"
     ]
    }
   ],
   "source": [
    "Celsius_a_Farenheit = (temperaturas * 9/5) +32\n"
   ]
  },
  {
   "cell_type": "code",
   "execution_count": 8,
   "id": "738c5caa",
   "metadata": {},
   "outputs": [
    {
     "name": "stdout",
     "output_type": "stream",
     "text": [
      "0\n",
      "1\n",
      "2\n",
      "3\n",
      "4\n",
      "5\n",
      "6\n"
     ]
    }
   ],
   "source": [
    "#3 6 excluido\n",
    "for i in range(0,7):\n",
    "    print(i)"
   ]
  },
  {
   "cell_type": "code",
   "execution_count": 6,
   "id": "96836120",
   "metadata": {},
   "outputs": [
    {
     "name": "stdout",
     "output_type": "stream",
     "text": [
      "3\n",
      "4\n",
      "5\n",
      "6\n"
     ]
    }
   ],
   "source": [
    "#4\n",
    "for i in range(3,7):\n",
    "    print(i)"
   ]
  },
  {
   "cell_type": "code",
   "execution_count": 4,
   "id": "75a7641c",
   "metadata": {},
   "outputs": [
    {
     "name": "stdout",
     "output_type": "stream",
     "text": [
      "5\n",
      "6\n",
      "7\n",
      "8\n",
      "9\n"
     ]
    }
   ],
   "source": [
    "#5\n",
    "for i in range(5,10):\n",
    "     print(i)"
   ]
  },
  {
   "cell_type": "code",
   "execution_count": 11,
   "id": "77941c0f",
   "metadata": {},
   "outputs": [
    {
     "name": "stdout",
     "output_type": "stream",
     "text": [
      "2\n",
      "3\n",
      "4\n"
     ]
    }
   ],
   "source": [
    "#6 Define e impreime un rango de 3 numeros que empiece en 2\n",
    "for i in range(2,5):\n",
    "    print(i)"
   ]
  },
  {
   "cell_type": "code",
   "execution_count": 14,
   "id": "ff36d118",
   "metadata": {},
   "outputs": [
    {
     "name": "stdout",
     "output_type": "stream",
     "text": [
      "2\n",
      "5\n",
      "8\n",
      "11\n"
     ]
    }
   ],
   "source": [
    "#Define e imprime un rango que empiece en 2, aumentando cada paso por 3, que pare antes de llegar al número 13.\n",
    "\n",
    "for i in range(2, 13, 3):\n",
    "    print(i)"
   ]
  },
  {
   "cell_type": "code",
   "execution_count": 18,
   "id": "e97b7142",
   "metadata": {},
   "outputs": [
    {
     "name": "stdout",
     "output_type": "stream",
     "text": [
      "1\n",
      "3\n",
      "5\n",
      "7\n",
      "9\n",
      "------------------------------\n",
      "1\n",
      "3\n",
      "5\n",
      "7\n",
      "9\n"
     ]
    }
   ],
   "source": [
    "#valores impares hasta 10\n",
    "for i in range(1,10,2):\n",
    "    print(i)\n",
    "\n",
    "print ('---' * 10)\n",
    "#Otra manera con el if\n",
    "for i in range(1,11):\n",
    "    if i % 2 != 0:\n",
    "        print(i)\n"
   ]
  },
  {
   "cell_type": "code",
   "execution_count": 27,
   "id": "318aa140",
   "metadata": {},
   "outputs": [
    {
     "data": {
      "text/plain": [
       "[4,\n",
       " 2025,\n",
       " 4489,\n",
       " 529,\n",
       " 2025,\n",
       " 4356,\n",
       " 144,\n",
       " 1,\n",
       " 1156,\n",
       " 4489,\n",
       " 9801,\n",
       " 9604,\n",
       " 4489,\n",
       " 4096,\n",
       " 1936,\n",
       " 10000,\n",
       " 16]"
      ]
     },
     "execution_count": 27,
     "metadata": {},
     "output_type": "execute_result"
    }
   ],
   "source": [
    "#Lista de las temperaturas elevadas al cuadrado\n",
    "lista_temperaturas_2 = []\n",
    "\n",
    "for i in temperaturas:\n",
    "    lista_temperaturas_2.append(i**2)\n",
    "    \n",
    "    \n",
    "lista_temperaturas_2"
   ]
  },
  {
   "cell_type": "code",
   "execution_count": 33,
   "id": "edd4fff0",
   "metadata": {},
   "outputs": [
    {
     "name": "stdout",
     "output_type": "stream",
     "text": [
      "2 45 67 23 45 66 12 1 34 67 99 98 67 64 44 100 4\n"
     ]
    },
    {
     "data": {
      "text/plain": [
       "[0, 1, 1, 1, 1, 0, 0, 1, 0, 1, 1, 0, 1, 0, 0, 0, 0]"
      ]
     },
     "execution_count": 33,
     "metadata": {},
     "output_type": "execute_result"
    }
   ],
   "source": [
    "#Crea una lista nueva donde tengamos el resto de la división de cada uno de los números entre 2.\n",
    "lista_division2 = []\n",
    "\n",
    "for i in temperaturas:\n",
    "    lista_division2.append(i%2)\n",
    "print(*temperaturas) # el ascerisco dentro de print significa desempaquetar. Asi vemos la lista an una linea\n",
    "    \n",
    "lista_division2"
   ]
  },
  {
   "cell_type": "code",
   "execution_count": 35,
   "id": "2e569d5c",
   "metadata": {},
   "outputs": [
    {
     "name": "stdout",
     "output_type": "stream",
     "text": [
      "2 45 67 23 45 66 12 1 34 67 99 98 67 64 44 100 4\n"
     ]
    },
    {
     "data": {
      "text/plain": [
       "[2, 66, 12, 34, 98, 64, 44, 100, 4]"
      ]
     },
     "execution_count": 35,
     "metadata": {},
     "output_type": "execute_result"
    }
   ],
   "source": [
    "temperaturas_pares =[]\n",
    "\n",
    "for i in temperaturas:\n",
    "    if i % 2 == 0:\n",
    "        temperaturas_pares.append(i)\n",
    "print(*temperaturas)\n",
    "\n",
    "temperaturas_pares"
   ]
  },
  {
   "cell_type": "code",
   "execution_count": 36,
   "id": "fcb68ea7",
   "metadata": {},
   "outputs": [
    {
     "name": "stdout",
     "output_type": "stream",
     "text": [
      "2 45 67 23 45 66 12 1 34 67 99 98 67 64 44 100 4\n"
     ]
    },
    {
     "data": {
      "text/plain": [
       "[2, 45, 23, 45, 12, 1, 34, 44, 4]"
      ]
     },
     "execution_count": 36,
     "metadata": {},
     "output_type": "execute_result"
    }
   ],
   "source": [
    "#elementos menores a 50 en una nueva lista\n",
    "\n",
    "menor_50 =[]\n",
    "\n",
    "for i in temperaturas:\n",
    "    if i <= 50:\n",
    "        menor_50.append(i)\n",
    "print(*temperaturas)\n",
    "menor_50"
   ]
  },
  {
   "cell_type": "code",
   "execution_count": 39,
   "id": "1a280885",
   "metadata": {},
   "outputs": [
    {
     "name": "stdout",
     "output_type": "stream",
     "text": [
      "2 45 67 23 45 66 12 1 34 67 99 98 67 64 44 100 4\n"
     ]
    },
    {
     "data": {
      "text/plain": [
       "('par',\n",
       " 'impar',\n",
       " 'impar',\n",
       " 'impar',\n",
       " 'impar',\n",
       " 'par',\n",
       " 'par',\n",
       " 'impar',\n",
       " 'par',\n",
       " 'impar',\n",
       " 'impar',\n",
       " 'par',\n",
       " 'impar',\n",
       " 'par',\n",
       " 'par',\n",
       " 'par',\n",
       " 'par')"
      ]
     },
     "execution_count": 39,
     "metadata": {},
     "output_type": "execute_result"
    }
   ],
   "source": [
    "#crea una lista con \"par\" o \"impar\" dependiendo de los numeros\n",
    "lista_strings = []\n",
    "\n",
    "for i in temperaturas:\n",
    "    if i % 2 == 0:\n",
    "        lista_strings.append(\"par\")\n",
    "    else:\n",
    "        lista_strings.append(\"impar\")\n",
    "print(*temperaturas)\n",
    "lista_strings"
   ]
  },
  {
   "cell_type": "code",
   "execution_count": null,
   "id": "3fd0936c",
   "metadata": {},
   "outputs": [],
   "source": [
    "#14 Pide al usuario un número entero positivo y suma los números pares e impares por separado hasta ese número.\n",
    "\n",
    "usuario_input = input(\"Escribe un numero positivo\")"
   ]
  }
 ],
 "metadata": {
  "kernelspec": {
   "display_name": "Python 3",
   "language": "python",
   "name": "python3"
  },
  "language_info": {
   "codemirror_mode": {
    "name": "ipython",
    "version": 3
   },
   "file_extension": ".py",
   "mimetype": "text/x-python",
   "name": "python",
   "nbconvert_exporter": "python",
   "pygments_lexer": "ipython3",
   "version": "3.13.7"
  }
 },
 "nbformat": 4,
 "nbformat_minor": 5
}
