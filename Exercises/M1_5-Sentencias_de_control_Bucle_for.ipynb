{
 "cells": [
  {
   "cell_type": "markdown",
   "id": "5b8c7a22",
   "metadata": {},
   "source": [
    "SENTENCIAS DE CONTROL BUCLE FOR"
   ]
  },
  {
   "cell_type": "code",
   "execution_count": 2,
   "id": "c136a7aa",
   "metadata": {},
   "outputs": [
    {
     "name": "stdout",
     "output_type": "stream",
     "text": [
      "Bajas: [2, 1]\n",
      "Medias: [12]\n",
      "Altas: [45, 67, 23, 45, 66, 34, 67, 99, 98, 67, 64, 44, 100]\n"
     ]
    }
   ],
   "source": [
    "temperaturas = [2,45,67,23, 45,66,12,1,34,67,99,98,67,64, 44, 100]\n",
    "bajas_temp = []\n",
    "medias_temp = []\n",
    "altas_temp = []\n",
    "\n",
    "for i in temperaturas: \n",
    "    if i > 0 and i <= 10:\n",
    "        bajas_temp.append(i)\n",
    "        \n",
    "for i in temperaturas:\n",
    "    if i > 10 and i <= 20:\n",
    "       medias_temp.append(i)\n",
    "        \n",
    "for i in temperaturas:\n",
    "    if i > 20:\n",
    "        altas_temp.append(i)\n",
    "        \n",
    "print(\"Bajas:\", bajas_temp)\n",
    "print(\"Medias:\", medias_temp)\n",
    "print(\"Altas:\", altas_temp)\n"
   ]
  },
  {
   "cell_type": "code",
   "execution_count": 6,
   "id": "4b2c50ad",
   "metadata": {},
   "outputs": [
    {
     "ename": "TypeError",
     "evalue": "unsupported operand type(s) for /: 'list' and 'int'",
     "output_type": "error",
     "traceback": [
      "\u001b[31m---------------------------------------------------------------------------\u001b[39m",
      "\u001b[31mTypeError\u001b[39m                                 Traceback (most recent call last)",
      "\u001b[36mCell\u001b[39m\u001b[36m \u001b[39m\u001b[32mIn[6]\u001b[39m\u001b[32m, line 1\u001b[39m\n\u001b[32m----> \u001b[39m\u001b[32m1\u001b[39m Celsius_a_Farenheit = (\u001b[43mtemperaturas\u001b[49m\u001b[43m \u001b[49m\u001b[43m*\u001b[49m\u001b[43m \u001b[49m\u001b[32;43m9\u001b[39;49m\u001b[43m/\u001b[49m\u001b[32;43m5\u001b[39;49m) +\u001b[32m32\u001b[39m\n",
      "\u001b[31mTypeError\u001b[39m: unsupported operand type(s) for /: 'list' and 'int'"
     ]
    }
   ],
   "source": [
    "Celsius_a_Farenheit = (temperaturas * 9/5) +32\n"
   ]
  },
  {
   "cell_type": "code",
   "execution_count": 8,
   "id": "738c5caa",
   "metadata": {},
   "outputs": [
    {
     "name": "stdout",
     "output_type": "stream",
     "text": [
      "0\n",
      "1\n",
      "2\n",
      "3\n",
      "4\n",
      "5\n",
      "6\n"
     ]
    }
   ],
   "source": [
    "#3 6 excluido\n",
    "for i in range(0,7):\n",
    "    print(i)"
   ]
  },
  {
   "cell_type": "code",
   "execution_count": 6,
   "id": "96836120",
   "metadata": {},
   "outputs": [
    {
     "name": "stdout",
     "output_type": "stream",
     "text": [
      "3\n",
      "4\n",
      "5\n",
      "6\n"
     ]
    }
   ],
   "source": [
    "#4\n",
    "for i in range(3,7):\n",
    "    print(i)"
   ]
  },
  {
   "cell_type": "code",
   "execution_count": 4,
   "id": "75a7641c",
   "metadata": {},
   "outputs": [
    {
     "name": "stdout",
     "output_type": "stream",
     "text": [
      "5\n",
      "6\n",
      "7\n",
      "8\n",
      "9\n"
     ]
    }
   ],
   "source": [
    "#5\n",
    "for i in range(5,10):\n",
    "     print(i)"
   ]
  },
  {
   "cell_type": "code",
   "execution_count": 11,
   "id": "77941c0f",
   "metadata": {},
   "outputs": [
    {
     "name": "stdout",
     "output_type": "stream",
     "text": [
      "2\n",
      "3\n",
      "4\n"
     ]
    }
   ],
   "source": [
    "#6 Define e impreime un rango de 3 numeros que empiece en 2\n",
    "for i in range(2,5):\n",
    "    print(i)"
   ]
  },
  {
   "cell_type": "code",
   "execution_count": 14,
   "id": "ff36d118",
   "metadata": {},
   "outputs": [
    {
     "name": "stdout",
     "output_type": "stream",
     "text": [
      "2\n",
      "5\n",
      "8\n",
      "11\n"
     ]
    }
   ],
   "source": [
    "#Define e imprime un rango que empiece en 2, aumentando cada paso por 3, que pare antes de llegar al número 13.\n",
    "\n",
    "for i in range(2, 13, 3):\n",
    "    print(i)"
   ]
  },
  {
   "cell_type": "code",
   "execution_count": 18,
   "id": "e97b7142",
   "metadata": {},
   "outputs": [
    {
     "name": "stdout",
     "output_type": "stream",
     "text": [
      "1\n",
      "3\n",
      "5\n",
      "7\n",
      "9\n",
      "------------------------------\n",
      "1\n",
      "3\n",
      "5\n",
      "7\n",
      "9\n"
     ]
    }
   ],
   "source": [
    "#valores impares hasta 10\n",
    "for i in range(1,10,2):\n",
    "    print(i)\n",
    "\n",
    "print ('---' * 10)\n",
    "#Otra manera con el if\n",
    "for i in range(1,11):\n",
    "    if i % 2 != 0:\n",
    "        print(i)\n"
   ]
  },
  {
   "cell_type": "code",
   "execution_count": 27,
   "id": "318aa140",
   "metadata": {},
   "outputs": [
    {
     "data": {
      "text/plain": [
       "[4,\n",
       " 2025,\n",
       " 4489,\n",
       " 529,\n",
       " 2025,\n",
       " 4356,\n",
       " 144,\n",
       " 1,\n",
       " 1156,\n",
       " 4489,\n",
       " 9801,\n",
       " 9604,\n",
       " 4489,\n",
       " 4096,\n",
       " 1936,\n",
       " 10000,\n",
       " 16]"
      ]
     },
     "execution_count": 27,
     "metadata": {},
     "output_type": "execute_result"
    }
   ],
   "source": [
    "#Lista de las temperaturas elevadas al cuadrado\n",
    "lista_temperaturas_2 = []\n",
    "\n",
    "for i in temperaturas:\n",
    "    lista_temperaturas_2.append(i**2)\n",
    "    \n",
    "    \n",
    "lista_temperaturas_2"
   ]
  },
  {
   "cell_type": "code",
   "execution_count": 33,
   "id": "edd4fff0",
   "metadata": {},
   "outputs": [
    {
     "name": "stdout",
     "output_type": "stream",
     "text": [
      "2 45 67 23 45 66 12 1 34 67 99 98 67 64 44 100 4\n"
     ]
    },
    {
     "data": {
      "text/plain": [
       "[0, 1, 1, 1, 1, 0, 0, 1, 0, 1, 1, 0, 1, 0, 0, 0, 0]"
      ]
     },
     "execution_count": 33,
     "metadata": {},
     "output_type": "execute_result"
    }
   ],
   "source": [
    "#Crea una lista nueva donde tengamos el resto de la división de cada uno de los números entre 2.\n",
    "lista_division2 = []\n",
    "\n",
    "for i in temperaturas:\n",
    "    lista_division2.append(i%2)\n",
    "print(*temperaturas) # el ascerisco dentro de print significa desempaquetar. Asi vemos la lista an una linea\n",
    "    \n",
    "lista_division2"
   ]
  },
  {
   "cell_type": "code",
   "execution_count": 35,
   "id": "2e569d5c",
   "metadata": {},
   "outputs": [
    {
     "name": "stdout",
     "output_type": "stream",
     "text": [
      "2 45 67 23 45 66 12 1 34 67 99 98 67 64 44 100 4\n"
     ]
    },
    {
     "data": {
      "text/plain": [
       "[2, 66, 12, 34, 98, 64, 44, 100, 4]"
      ]
     },
     "execution_count": 35,
     "metadata": {},
     "output_type": "execute_result"
    }
   ],
   "source": [
    "temperaturas_pares =[]\n",
    "\n",
    "for i in temperaturas:\n",
    "    if i % 2 == 0:\n",
    "        temperaturas_pares.append(i)\n",
    "print(*temperaturas)\n",
    "\n",
    "temperaturas_pares"
   ]
  },
  {
   "cell_type": "code",
   "execution_count": 36,
   "id": "fcb68ea7",
   "metadata": {},
   "outputs": [
    {
     "name": "stdout",
     "output_type": "stream",
     "text": [
      "2 45 67 23 45 66 12 1 34 67 99 98 67 64 44 100 4\n"
     ]
    },
    {
     "data": {
      "text/plain": [
       "[2, 45, 23, 45, 12, 1, 34, 44, 4]"
      ]
     },
     "execution_count": 36,
     "metadata": {},
     "output_type": "execute_result"
    }
   ],
   "source": [
    "#elementos menores a 50 en una nueva lista\n",
    "\n",
    "menor_50 =[]\n",
    "\n",
    "for i in temperaturas:\n",
    "    if i <= 50:\n",
    "        menor_50.append(i)\n",
    "print(*temperaturas)\n",
    "menor_50"
   ]
  },
  {
   "cell_type": "code",
   "execution_count": 39,
   "id": "1a280885",
   "metadata": {},
   "outputs": [
    {
     "name": "stdout",
     "output_type": "stream",
     "text": [
      "2 45 67 23 45 66 12 1 34 67 99 98 67 64 44 100 4\n"
     ]
    },
    {
     "data": {
      "text/plain": [
       "('par',\n",
       " 'impar',\n",
       " 'impar',\n",
       " 'impar',\n",
       " 'impar',\n",
       " 'par',\n",
       " 'par',\n",
       " 'impar',\n",
       " 'par',\n",
       " 'impar',\n",
       " 'impar',\n",
       " 'par',\n",
       " 'impar',\n",
       " 'par',\n",
       " 'par',\n",
       " 'par',\n",
       " 'par')"
      ]
     },
     "execution_count": 39,
     "metadata": {},
     "output_type": "execute_result"
    }
   ],
   "source": [
    "#crea una lista con \"par\" o \"impar\" dependiendo de los numeros\n",
    "lista_strings = []\n",
    "\n",
    "for i in temperaturas:\n",
    "    if i % 2 == 0:\n",
    "        lista_strings.append(\"par\")\n",
    "    else:\n",
    "        lista_strings.append(\"impar\")\n",
    "print(*temperaturas)\n",
    "lista_strings"
   ]
  },
  {
   "cell_type": "code",
   "execution_count": 43,
   "id": "3fd0936c",
   "metadata": {},
   "outputs": [
    {
     "name": "stdout",
     "output_type": "stream",
     "text": [
      "El total de los pares sumados hasta 10 es: 30\n",
      "El total de los pares sumados hasta 10 es: 25\n"
     ]
    }
   ],
   "source": [
    "\n",
    "#14 Pide al usuario un número entero positivo y suma los números pares e impares por separado hasta ese número.\n",
    "def sumar_pares_impares():\n",
    "    while True:\n",
    "        try:\n",
    "            num_positivo = int(input(\"Escribe un numero positivo\"))\n",
    "            if num_positivo > 0:\n",
    "                break\n",
    "            else:\n",
    "                print(\"Tiene que ser positivo\")\n",
    "        except ValueError:\n",
    "            print(\"Introduce un entero\")\n",
    "            \n",
    "    suma_pares = 0\n",
    "    suma_impares = 0\n",
    "\n",
    "    for i in range(1,num_positivo +1):\n",
    "        if i % 2 ==0:\n",
    "            suma_pares += i\n",
    "        else:\n",
    "            suma_impares += i\n",
    "            \n",
    "            \n",
    "    print(f\"El total de los pares sumados hasta {num_positivo} es: {suma_pares}\")\n",
    "    print(f\"El total de los pares sumados hasta {num_positivo} es: {suma_impares}\")\n",
    "\n",
    "sumar_pares_impares()\n",
    "    "
   ]
  },
  {
   "cell_type": "code",
   "execution_count": 15,
   "id": "40be18a3",
   "metadata": {},
   "outputs": [
    {
     "name": "stdout",
     "output_type": "stream",
     "text": [
      "Hay: 0 - a en la frase\n",
      "Hay: 1 - e en la frase\n",
      "Hay: 1 - i en la frase\n",
      "Hay: 1 - o en la frase\n",
      "Hay: 1 - u en la frase\n"
     ]
    }
   ],
   "source": [
    "15# Pide al usuario ingresar una cadena y cuenta cuántas veces aparece cada vocal (a, e, i, o, u) en la cadena.\n",
    "def contar_vocales():\n",
    "    while True:\n",
    "            frase1 = input(\"Escribe una frase para contar sus vocales\") \n",
    "\n",
    "            if frase1.isdigit():\n",
    "                print(\"Por favor, introduce una frase, no solo números.\")\n",
    "                continue   \n",
    "            break\n",
    "    contador = {'a': 0, 'e': 0, 'i': 0, 'o': 0, 'u': 0}\n",
    "    \n",
    "    for vocales in frase1.lower():\n",
    "        if vocales in contador:\n",
    "            contador[vocales] += 1\n",
    "            \n",
    "            \n",
    "    for vocal, cantidad in contador.items():\n",
    "        print(f\"Hay: {cantidad} - {vocal} en la frase\")\n",
    "\n",
    "contar_vocales()\n",
    "            \n",
    "        \n"
   ]
  },
  {
   "cell_type": "code",
   "execution_count": 16,
   "id": "d558d2db",
   "metadata": {},
   "outputs": [
    {
     "name": "stdout",
     "output_type": "stream",
     "text": [
      "This is the letter y\n",
      "This is the letter t\n",
      "This is the letter h\n",
      "This is the letter o\n",
      "This is the letter n\n"
     ]
    }
   ],
   "source": [
    "#Crea una variable que sea igual a \"Python\" y genera un código que nos printee todas las letras menos la \"P\" usando la sentencia continue.\n",
    "\n",
    "var = \"Python\"\n",
    "for i in var:\n",
    "    if i == 'P':\n",
    "        continue\n",
    "    else:\n",
    "        print(f\"This is the letter {i}\")\n",
    "        \n",
    "        \n",
    "        \n"
   ]
  },
  {
   "cell_type": "code",
   "execution_count": 17,
   "id": "749f2fcd",
   "metadata": {},
   "outputs": [
    {
     "name": "stdout",
     "output_type": "stream",
     "text": [
      "h\n",
      "e\n",
      "o\n"
     ]
    }
   ],
   "source": [
    "frase = \"hello\"\n",
    "\n",
    "for letra in frase:\n",
    "    if letra == 'l':\n",
    "        continue\n",
    "    else:\n",
    "        print(letra)"
   ]
  },
  {
   "cell_type": "code",
   "execution_count": 18,
   "id": "24ec82fc",
   "metadata": {},
   "outputs": [
    {
     "name": "stdout",
     "output_type": "stream",
     "text": [
      "h\n",
      "e\n",
      "l\n",
      "l\n"
     ]
    }
   ],
   "source": [
    "frase2 = \"hello\"\n",
    "\n",
    "for letra in frase2:\n",
    "    if letra == 'o':\n",
    "        break\n",
    "    else:\n",
    "        print(letra)"
   ]
  },
  {
   "cell_type": "code",
   "execution_count": 30,
   "id": "9d81e7a0",
   "metadata": {},
   "outputs": [
    {
     "name": "stdout",
     "output_type": "stream",
     "text": [
      "no se ha podido sumar porque no has escrito numeros\n"
     ]
    },
    {
     "data": {
      "text/plain": [
       "-2"
      ]
     },
     "execution_count": 30,
     "metadata": {},
     "output_type": "execute_result"
    }
   ],
   "source": [
    "\n",
    "\n",
    "try:\n",
    "    doce = int(input(\"wscribe un numero\"))\n",
    "    seis = 6\n",
    "    suma= doce + seis\n",
    "    \n",
    "except ValueError:\n",
    "    print(\"no se ha podido sumar porque no has escrito numeros\")\n",
    "    \n",
    "suma"
   ]
  },
  {
   "cell_type": "code",
   "execution_count": null,
   "id": "bbaf1a42",
   "metadata": {},
   "outputs": [
    {
     "data": {
      "text/plain": [
       "10"
      ]
     },
     "execution_count": 32,
     "metadata": {},
     "output_type": "execute_result"
    }
   ],
   "source": [
    "\n",
    "\n",
    "while True:\n",
    "    entrada = input(\"Escribe un número: \")\n",
    "    seis = 6\n",
    "\n",
    "    if entrada.isdigit():\n",
    "        doce = int(entrada)\n",
    "        suma = doce + seis\n",
    "        print(\"La suma es:\", suma)\n",
    "        break\n",
    "    else:\n",
    "        print(\"Error: introduce un número válido.\")\n",
    "    \n",
    "suma"
   ]
  },
  {
   "cell_type": "code",
   "execution_count": null,
   "id": "40772681",
   "metadata": {},
   "outputs": [],
   "source": [
    "#7 Solicita al usuario ingresar números enteros positivos hasta que ingrese un número negativo. Luego, muestra la suma de todos los números pares ingresados."
   ]
  }
 ],
 "metadata": {
  "kernelspec": {
   "display_name": "Python 3",
   "language": "python",
   "name": "python3"
  },
  "language_info": {
   "codemirror_mode": {
    "name": "ipython",
    "version": 3
   },
   "file_extension": ".py",
   "mimetype": "text/x-python",
   "name": "python",
   "nbconvert_exporter": "python",
   "pygments_lexer": "ipython3",
   "version": "3.13.7"
  }
 },
 "nbformat": 4,
 "nbformat_minor": 5
}
