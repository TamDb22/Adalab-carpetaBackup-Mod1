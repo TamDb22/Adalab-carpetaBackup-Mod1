{
 "cells": [
  {
   "cell_type": "markdown",
   "id": "709ca0ac",
   "metadata": {},
   "source": [
    "BASE CoDIGO PARA PROYECTO"
   ]
  },
  {
   "cell_type": "code",
   "execution_count": null,
   "id": "9a9d883a",
   "metadata": {},
   "outputs": [],
   "source": [
    "import random\n",
    "\n",
    "def jugar():\n",
    "    print(\"Bienvenidos a Piedra, Papel o Tijeras!\")\n",
    "    opciones = [\"piedra\", \"papel\", \"tijeras\"]\n",
    "    \n",
    "    puntos_jugador1 = 0\n",
    "    puntos_jugador2 = 0\n",
    "    \n",
    "    \n",
    "    modo =input(\"Escribe UNO para 1 jugador o DOS para 2 jugadores y presiona Enter: \").lower()\n",
    "    \n",
    "    if modo == \"uno\":\n",
    "        nombre_jugador1 = input(\"Ingresa tu nombre: \")\n",
    "        nombre_jugador2 = \"Computadora\"\n",
    "    elif modo == \"dos\":\n",
    "        nombre_jugador1 = input(\"Jugador 1, ingresa tu nombre: \")\n",
    "        nombre_jugador2 = input(\"Jugador 2, ingresa tu nombre: \")\n",
    "    else:\n",
    "        print(\"Modo no válido. Por favor, reinicia el juego.\")\n",
    "        return\n",
    "\n",
    "    while True:\n",
    "        eleccion_jugador1 = input(f\"{nombre_jugador1}, elige piedra, papel o tijeras (o escribe 'salir' para terminar): \").lower()\n",
    "        if eleccion_jugador1 == \"salir\":\n",
    "            print(\"Gracias por jugar!\")\n",
    "            break\n",
    "        if eleccion_jugador1 not in opciones:\n",
    "            print(\"Elección no válida. Intenta de nuevo.\")\n",
    "            continue\n",
    "        \n",
    "        if modo == \"uno\":\n",
    "            eleccion_jugador2 = random.choice(opciones)\n",
    "            print(f\"La computadora eligió: {eleccion_jugador2}\")\n",
    "        else:\n",
    "            eleccion_jugador2 = input(f\"{nombre_jugador2}, elige piedra, papel o tijeras: \").lower()\n",
    "            if eleccion_jugador2 not in opciones:\n",
    "                print(\"Elección no válida. Intenta de nuevo.\")\n",
    "                continue\n",
    "        \n",
    "        if eleccion_jugador1 == eleccion_jugador2:\n",
    "            print(\"Empate!\")\n",
    "        elif (eleccion_jugador1 == \"piedra\" and eleccion_jugador2 == \"tijeras\") or (eleccion_jugador1 == \"papel\" and eleccion_jugador2 == \"piedra\") or (eleccion_jugador1 == \"tijeras\" and eleccion_jugador2 == \"papel\"):\n",
    "            puntos_jugador1 += 1\n",
    "            print(f\"{nombre_jugador1} gana esta ronda!\")"
   ]
  }
 ],
 "metadata": {
  "kernelspec": {
   "display_name": "Python 3",
   "language": "python",
   "name": "python3"
  },
  "language_info": {
   "name": "python",
   "version": "3.13.7"
  }
 },
 "nbformat": 4,
 "nbformat_minor": 5
}
