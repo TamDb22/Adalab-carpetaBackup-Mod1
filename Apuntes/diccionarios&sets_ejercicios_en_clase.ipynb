{
 "cells": [
  {
   "cell_type": "markdown",
   "id": "4ec4a261",
   "metadata": {},
   "source": [
    "# Diccionario --> \n",
    "- Acepta repetidos (pero NO las claves, solo los valores)\n",
    "- Compuesto de clave y valor {clave:valor}\n",
    "- Las claves son únicas e inmutables, pero podemos añadir y eliminar pares nuevos de clave-valor\n",
    "- Una clave puede ser una lista\n",
    "- Accesible por clave, no por índice\n",
    "- Para convertir en diccionario utilizamos dict()\n",
    "- Podemos preguntar por una clave con in, not in\n",
    "\n",
    "## Funciones:\n",
    "\n",
    "- .fromkeys(clave, valores) --> añade conjuntos de clave valor\n",
    "- len()\n",
    "- .keys() --> muestra las claves\n",
    "- .values() --> muestra los valores\n",
    "- .items() --> devuelve una lista de tuplas con cada clave y valor\n",
    "- .copy()\n",
    "- .clear()\n",
    "- .update() --> para añadir un elemento nuevo al diccionario, pero SIEMPRE se le pasa en formato diccionario, ejemplo: diccionario.update({\"alumnas\":18})\n",
    "- .get() --> para obtener un valor, dándole una clave, aunque también se puede acceder con diccionario[clave]\n",
    "- .pop() --> elimina un valor pasándole la clave\n",
    "- .popitem() --> elimina el ultimo clave-valor agregado\n",
    "- dictnuevo = {**dict1, **dict2, **dict3}"
   ]
  },
  {
   "cell_type": "code",
   "execution_count": null,
   "id": "fc35520f",
   "metadata": {},
   "outputs": [],
   "source": [
    "nombres = [\"Amparo\", \"Maricarmen\", \"Lourdes\"]\n",
    "edades = [23, 35, 65]"
   ]
  },
  {
   "cell_type": "code",
   "execution_count": null,
   "id": "3db6d1f3",
   "metadata": {},
   "outputs": [],
   "source": [
    "#clave:valor\n",
    "diccionario = {\n",
    "    \"nombre\": \"Maricarmen\", \n",
    "    \"edad\": 24, \n",
    "    \"ciudad\": \"Madrid\", \n",
    "}"
   ]
  },
  {
   "cell_type": "code",
   "execution_count": 5,
   "id": "345b0974",
   "metadata": {},
   "outputs": [
    {
     "data": {
      "text/plain": [
       "{'nombre': 'Maricarmen', 'edad': 24, 'ciudad': 'Madrid'}"
      ]
     },
     "execution_count": 5,
     "metadata": {},
     "output_type": "execute_result"
    }
   ],
   "source": [
    "diccionario"
   ]
  },
  {
   "cell_type": "code",
   "execution_count": 6,
   "id": "c712b8ab",
   "metadata": {},
   "outputs": [
    {
     "data": {
      "text/plain": [
       "3"
      ]
     },
     "execution_count": 6,
     "metadata": {},
     "output_type": "execute_result"
    }
   ],
   "source": [
    "## saber el tamaño\n",
    "len(diccionario)"
   ]
  },
  {
   "cell_type": "code",
   "execution_count": 8,
   "id": "6f563c09",
   "metadata": {},
   "outputs": [
    {
     "data": {
      "text/plain": [
       "24"
      ]
     },
     "execution_count": 8,
     "metadata": {},
     "output_type": "execute_result"
    }
   ],
   "source": [
    "## obtner el valor de una clave\n",
    "diccionario[\"edad\"]"
   ]
  },
  {
   "cell_type": "code",
   "execution_count": 10,
   "id": "9712514d",
   "metadata": {},
   "outputs": [
    {
     "data": {
      "text/plain": [
       "False"
      ]
     },
     "execution_count": 10,
     "metadata": {},
     "output_type": "execute_result"
    }
   ],
   "source": [
    "## saber si una clave está dentro de un diccionario\n",
    "\"pais\" in diccionario"
   ]
  },
  {
   "cell_type": "code",
   "execution_count": 13,
   "id": "e77a031f",
   "metadata": {},
   "outputs": [
    {
     "data": {
      "text/plain": [
       "dict_items([('nombre', 'Maricarmen'), ('edad', 24), ('ciudad', 'Madrid'), ('pais', 'Spain')])"
      ]
     },
     "execution_count": 13,
     "metadata": {},
     "output_type": "execute_result"
    }
   ],
   "source": [
    "## ver todos los elemetos\n",
    "diccionario.items()"
   ]
  },
  {
   "cell_type": "code",
   "execution_count": null,
   "id": "71a2bf3f",
   "metadata": {},
   "outputs": [],
   "source": [
    "##añadir un valor al diccionario\n",
    "diccionario.update({\"pais\": \"Spain\"})"
   ]
  },
  {
   "cell_type": "code",
   "execution_count": 14,
   "id": "e797fe93",
   "metadata": {},
   "outputs": [
    {
     "data": {
      "text/plain": [
       "24"
      ]
     },
     "execution_count": 14,
     "metadata": {},
     "output_type": "execute_result"
    }
   ],
   "source": [
    "diccionario[\"edad\"]\n",
    "diccionario.get(\"edad\")"
   ]
  },
  {
   "cell_type": "code",
   "execution_count": null,
   "id": "b137e7b3",
   "metadata": {},
   "outputs": [],
   "source": [
    "frutas  = (\"manzana\", \"pera\", \"piña\")\n",
    "cantidad = (34, 50, 10)"
   ]
  },
  {
   "cell_type": "code",
   "execution_count": 41,
   "id": "c961f5b9",
   "metadata": {},
   "outputs": [],
   "source": [
    "#Con este diccionario quiero...\n",
    "#Pedir una fruta y su cantidad a la usuaria y añadirla al diccionario\n",
    "#Acceder al valor de manzanas y luego de fresas\n",
    "#Eliminar el último clave-valor\n",
    "#Mostrar todas las frutas que hay (tipos)\n",
    "#Mostrar la cantidad de frutas que tenemos en total\n",
    "#Contar cuántos pares clave-valor tenemos\n",
    "#Borrar el diccionario\n",
    "\n",
    "\n",
    "frutas = {\"manzanas\": 2, \n",
    "          \"plátanos\": 5, \n",
    "          \"uvas\": 4, \n",
    "          \"ciruelas\": 6, \n",
    "          \"fresas\": 10}"
   ]
  },
  {
   "cell_type": "code",
   "execution_count": null,
   "id": "eee24b8d",
   "metadata": {},
   "outputs": [
    {
     "data": {
      "text/plain": [
       "{'manzanas': 2,\n",
       " 'plátanos': 5,\n",
       " 'uvas': 4,\n",
       " 'ciruelas': 6,\n",
       " 'fresas': 10,\n",
       " 'mango ': 23,\n",
       " 'piña': 23}"
      ]
     },
     "execution_count": 43,
     "metadata": {},
     "output_type": "execute_result"
    }
   ],
   "source": [
    "nueva_fruta = input(\"Dime el nombre de la nueva fruta\")\n",
    "cantidad = int(input(\"Dime la cantidad de la nueva fruta\"))\n",
    "\n",
    "frutas.update({nueva_fruta.lower():cantidad})\n",
    "frutas"
   ]
  },
  {
   "cell_type": "code",
   "execution_count": 27,
   "id": "9af985da",
   "metadata": {},
   "outputs": [
    {
     "data": {
      "text/plain": [
       "2"
      ]
     },
     "execution_count": 27,
     "metadata": {},
     "output_type": "execute_result"
    }
   ],
   "source": [
    "frutas.get(\"manzanas\")"
   ]
  },
  {
   "cell_type": "code",
   "execution_count": 28,
   "id": "e055b2fe",
   "metadata": {},
   "outputs": [
    {
     "data": {
      "text/plain": [
       "10"
      ]
     },
     "execution_count": 28,
     "metadata": {},
     "output_type": "execute_result"
    }
   ],
   "source": [
    "frutas[\"fresas\"]"
   ]
  },
  {
   "cell_type": "code",
   "execution_count": 29,
   "id": "097d0031",
   "metadata": {},
   "outputs": [
    {
     "data": {
      "text/plain": [
       "('ciruela', 34)"
      ]
     },
     "execution_count": 29,
     "metadata": {},
     "output_type": "execute_result"
    }
   ],
   "source": [
    "## eliminar \n",
    "frutas.popitem()"
   ]
  },
  {
   "cell_type": "code",
   "execution_count": 30,
   "id": "42ab9c76",
   "metadata": {},
   "outputs": [
    {
     "data": {
      "text/plain": [
       "{'manzanas': 2,\n",
       " 'plátanos': 5,\n",
       " 'uvas': 4,\n",
       " 'ciruelas': 6,\n",
       " 'fresas': 10,\n",
       " 'mango': 34}"
      ]
     },
     "execution_count": 30,
     "metadata": {},
     "output_type": "execute_result"
    }
   ],
   "source": [
    "frutas"
   ]
  },
  {
   "cell_type": "code",
   "execution_count": null,
   "id": "6d7479bf",
   "metadata": {},
   "outputs": [
    {
     "data": {
      "text/plain": [
       "dict_values([2, 5, 4, 6, 10, 34])"
      ]
     },
     "execution_count": 33,
     "metadata": {},
     "output_type": "execute_result"
    }
   ],
   "source": [
    "## \n",
    "frutas.items()\n",
    "frutas.keys()\n",
    "frutas.values()"
   ]
  },
  {
   "cell_type": "code",
   "execution_count": 34,
   "id": "1d67cc9b",
   "metadata": {},
   "outputs": [
    {
     "data": {
      "text/plain": [
       "6"
      ]
     },
     "execution_count": 34,
     "metadata": {},
     "output_type": "execute_result"
    }
   ],
   "source": [
    "#Contar cuántos pares clave-valor tenemos\n",
    "len(frutas)"
   ]
  },
  {
   "cell_type": "code",
   "execution_count": 35,
   "id": "a7a6fae6",
   "metadata": {},
   "outputs": [],
   "source": [
    "frutas.clear()"
   ]
  },
  {
   "cell_type": "code",
   "execution_count": 36,
   "id": "a80ba1d4",
   "metadata": {},
   "outputs": [
    {
     "data": {
      "text/plain": [
       "{}"
      ]
     },
     "execution_count": 36,
     "metadata": {},
     "output_type": "execute_result"
    }
   ],
   "source": [
    "frutas"
   ]
  },
  {
   "cell_type": "markdown",
   "id": "c3dc4fcf",
   "metadata": {},
   "source": [
    "## Sets --> Conjuntos\n",
    "- Conjunto = {}\n",
    "- No acepta valores repetidos\n",
    "- Elementos mutables en cuanto a añadir o eliminar, pero no permite listas o diccionarios dentro\n",
    "- Valores heterogéneos\n",
    "- No accesible por índice, desordenados\n",
    "- Convertir en conjunto: set()\n",
    "- in, not in\n",
    "\n",
    "Funciones:\n",
    "\n",
    "- len()\n",
    "- .add() --> para añadir un elemento más, SOLO UNO\n",
    "- .update() --> para pasarle una lista de elementos a añadir\n",
    "- .copy()\n",
    "- .remove() --> elimina UN SOLO ELEMENTO y da error si no existe\n",
    "- .discard() --> igual, pero no da error\n",
    "- .pop()\n",
    "- .clear()\n",
    "\n",
    "Operaciones especiales:\n",
    "\n",
    "- a.union(b) o a | b --> Muestra los elementos que suman entre los dos conjuntos, sin repetir\n",
    "- a.intersection(b) o a & b --> Muestra los elementos en común\n",
    "- a.difference(b) o a-b --> Muestra los que aparece en uno, quitando los que aparecen en el otro\n",
    "- a.symmetric_difference(b) o a^b --> Muestra los que no tengan en común\n",
    "- a.issubset(b) o a <= b --> Da True si todos los elementos de a están en b\n",
    "- a.issuperset(b) o a >= b --> Da True si a contiene todos los elementos de b\n",
    "NO TIENE NADA QUE VER LA CANTIDAD DE VALORES"
   ]
  },
  {
   "cell_type": "markdown",
   "id": "ecfa827c",
   "metadata": {},
   "source": [
    "![![Conjuntos] (https://i.sstatic.net/uH6cL.png)](https://i.sstatic.net/uH6cL.png)"
   ]
  },
  {
   "cell_type": "code",
   "execution_count": 54,
   "id": "8362ea2d",
   "metadata": {},
   "outputs": [],
   "source": [
    "conjunto = {1, 23, 45, 67, 3,1} #declarar, definir, "
   ]
  },
  {
   "cell_type": "code",
   "execution_count": 55,
   "id": "77e8c887",
   "metadata": {},
   "outputs": [
    {
     "data": {
      "text/plain": [
       "{1, 3, 23, 45, 67}"
      ]
     },
     "execution_count": 55,
     "metadata": {},
     "output_type": "execute_result"
    }
   ],
   "source": [
    "conjunto"
   ]
  },
  {
   "cell_type": "code",
   "execution_count": 46,
   "id": "b5dae32f",
   "metadata": {},
   "outputs": [
    {
     "data": {
      "text/plain": [
       "True"
      ]
     },
     "execution_count": 46,
     "metadata": {},
     "output_type": "execute_result"
    }
   ],
   "source": [
    "1 in conjunto"
   ]
  },
  {
   "cell_type": "code",
   "execution_count": 51,
   "id": "19db1916",
   "metadata": {},
   "outputs": [],
   "source": [
    "conjunto.add(30)"
   ]
  },
  {
   "cell_type": "code",
   "execution_count": 49,
   "id": "c309a44b",
   "metadata": {},
   "outputs": [],
   "source": [
    "conjunto.remove(23)"
   ]
  },
  {
   "cell_type": "code",
   "execution_count": null,
   "id": "afe9d6dd",
   "metadata": {},
   "outputs": [
    {
     "ename": "KeyError",
     "evalue": "5",
     "output_type": "error",
     "traceback": [
      "\u001b[0;31m---------------------------------------------------------------------------\u001b[0m",
      "\u001b[0;31mKeyError\u001b[0m                                  Traceback (most recent call last)",
      "Cell \u001b[0;32mIn[53], line 1\u001b[0m\n\u001b[0;32m----> 1\u001b[0m \u001b[43mconjunto\u001b[49m\u001b[38;5;241;43m.\u001b[39;49m\u001b[43mremove\u001b[49m\u001b[43m(\u001b[49m\u001b[38;5;241;43m5\u001b[39;49m\u001b[43m)\u001b[49m\n",
      "\u001b[0;31mKeyError\u001b[0m: 5"
     ]
    }
   ],
   "source": [
    "conjunto.remove()"
   ]
  },
  {
   "cell_type": "code",
   "execution_count": null,
   "id": "dafad8e2",
   "metadata": {},
   "outputs": [
    {
     "data": {
      "text/plain": [
       "{'Antonia', 'Cecilia', 'Juana', 'Lucia', 'Maria'}"
      ]
     },
     "execution_count": 56,
     "metadata": {},
     "output_type": "execute_result"
    }
   ],
   "source": [
    "conjunto1 = {\"Maria\", \"Antonia\", \"Juana\", \"Lucia\", \"Cecilia\"}\n",
    "conjunto1"
   ]
  },
  {
   "cell_type": "code",
   "execution_count": 59,
   "id": "aa36f5d7",
   "metadata": {},
   "outputs": [],
   "source": [
    "conjunto2= {\"Maria\", \"Lucia\", \"Carmen\"}"
   ]
  },
  {
   "cell_type": "code",
   "execution_count": 60,
   "id": "09d031b4",
   "metadata": {},
   "outputs": [
    {
     "data": {
      "text/plain": [
       "{'Antonia', 'Carmen', 'Cecilia', 'Juana', 'Lucia', 'Maria'}"
      ]
     },
     "execution_count": 60,
     "metadata": {},
     "output_type": "execute_result"
    }
   ],
   "source": [
    "## union\n",
    "conjunto1 | conjunto2"
   ]
  },
  {
   "cell_type": "code",
   "execution_count": 61,
   "id": "884fc8f6",
   "metadata": {},
   "outputs": [
    {
     "data": {
      "text/plain": [
       "{'Antonia', 'Carmen', 'Cecilia', 'Juana', 'Lucia', 'Maria'}"
      ]
     },
     "execution_count": 61,
     "metadata": {},
     "output_type": "execute_result"
    }
   ],
   "source": [
    "conjunto1.union(conjunto2)"
   ]
  },
  {
   "cell_type": "code",
   "execution_count": 62,
   "id": "d0dc3ec7",
   "metadata": {},
   "outputs": [
    {
     "data": {
      "text/plain": [
       "{'Lucia', 'Maria'}"
      ]
     },
     "execution_count": 62,
     "metadata": {},
     "output_type": "execute_result"
    }
   ],
   "source": [
    "#intersecion\n",
    "conjunto1 & conjunto2"
   ]
  },
  {
   "cell_type": "code",
   "execution_count": 63,
   "id": "85ea5e2f",
   "metadata": {},
   "outputs": [
    {
     "data": {
      "text/plain": [
       "{'Lucia', 'Maria'}"
      ]
     },
     "execution_count": 63,
     "metadata": {},
     "output_type": "execute_result"
    }
   ],
   "source": [
    "conjunto1.intersection(conjunto2)"
   ]
  },
  {
   "cell_type": "code",
   "execution_count": null,
   "id": "4fbfb29c",
   "metadata": {},
   "outputs": [
    {
     "data": {
      "text/plain": [
       "{'Antonia', 'Cecilia', 'Juana'}"
      ]
     },
     "execution_count": 64,
     "metadata": {},
     "output_type": "execute_result"
    }
   ],
   "source": [
    "#diferencia\n",
    "conjunto1- conjunto2"
   ]
  },
  {
   "cell_type": "code",
   "execution_count": 67,
   "id": "0dbc9efb",
   "metadata": {},
   "outputs": [
    {
     "data": {
      "text/plain": [
       "{'Carmen'}"
      ]
     },
     "execution_count": 67,
     "metadata": {},
     "output_type": "execute_result"
    }
   ],
   "source": [
    "conjunto2-conjunto1"
   ]
  },
  {
   "cell_type": "code",
   "execution_count": 65,
   "id": "98386ee6",
   "metadata": {},
   "outputs": [
    {
     "data": {
      "text/plain": [
       "{'Antonia', 'Cecilia', 'Juana'}"
      ]
     },
     "execution_count": 65,
     "metadata": {},
     "output_type": "execute_result"
    }
   ],
   "source": [
    "conjunto1.difference(conjunto2)"
   ]
  },
  {
   "cell_type": "code",
   "execution_count": 66,
   "id": "f1228014",
   "metadata": {},
   "outputs": [
    {
     "data": {
      "text/plain": [
       "False"
      ]
     },
     "execution_count": 66,
     "metadata": {},
     "output_type": "execute_result"
    }
   ],
   "source": [
    "#subconjunto\n",
    "conjunto2 <= conjunto1"
   ]
  }
 ],
 "metadata": {
  "kernelspec": {
   "display_name": "Python 3",
   "language": "python",
   "name": "python3"
  },
  "language_info": {
   "codemirror_mode": {
    "name": "ipython",
    "version": 3
   },
   "file_extension": ".py",
   "mimetype": "text/x-python",
   "name": "python",
   "nbconvert_exporter": "python",
   "pygments_lexer": "ipython3",
   "version": "3.10.13"
  }
 },
 "nbformat": 4,
 "nbformat_minor": 5
}
